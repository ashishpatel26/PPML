{
  "nbformat": 4,
  "nbformat_minor": 0,
  "metadata": {
    "colab": {
      "name": "03-Differentially-Private-Linear-Regression.ipynb",
      "provenance": []
    },
    "kernelspec": {
      "name": "python3",
      "display_name": "Python 3"
    }
  },
  "cells": [
    {
      "cell_type": "markdown",
      "metadata": {
        "id": "BClXlO65KtUQ"
      },
      "source": [
        "Let us consider the scenario of training a linear regression on the diabetes dataset (more information: https://archive.ics.uci.edu/ml/datasets/diabetes).\n",
        "\n",
        "\n",
        "We will follow the example given by scikit-learn (https://scikit-learn.org/stable/auto_examples/linear_model/plot_ols.html), and use the diabetes dataset to train and test a linear regressor. We begin by loading the dataset and splitting it into training and testing samples (an 80/20 split).\n"
      ]
    },
    {
      "cell_type": "code",
      "metadata": {
        "id": "EAKiFVMVKhvg",
        "outputId": "f1139608-cec3-4f85-b2fe-863d914abdfc",
        "colab": {
          "base_uri": "https://localhost:8080/"
        }
      },
      "source": [
        "from sklearn.model_selection import train_test_split\n",
        "from sklearn import datasets\n",
        "\n",
        "dataset = datasets.load_diabetes()\n",
        "X_train, X_test, y_train, y_test = train_test_split(dataset.data, dataset.target, test_size=0.2)\n",
        "print(\"Train examples: %d, Test examples: %d\" % (X_train.shape[0], X_test.shape[0]))"
      ],
      "execution_count": 1,
      "outputs": [
        {
          "output_type": "stream",
          "text": [
            "Train examples: 353, Test examples: 89\n"
          ],
          "name": "stdout"
        }
      ]
    },
    {
      "cell_type": "markdown",
      "metadata": {
        "id": "z9M-l9W1Kzj9"
      },
      "source": [
        "## Non-private Baseline\n",
        "We now use scikit-learn's native LinearRegression function to establish a non-private baseline for our experiments. We will use the r-squared score to evaluate the goodness-of-fit of the model. R-squared score is a statistical measure that represents the proportion of the variance for a dependent variable that's explained by an independent variable or variables in a regression model. A higher R-squared score indicates a better linear regression model."
      ]
    },
    {
      "cell_type": "code",
      "metadata": {
        "id": "PrrT6fhEK698",
        "outputId": "6cc389c8-a9b9-4adf-f161-82000f893c98",
        "colab": {
          "base_uri": "https://localhost:8080/"
        }
      },
      "source": [
        "from sklearn.linear_model import LinearRegression as sk_LinearRegression\n",
        "from sklearn.metrics import r2_score\n",
        "\n",
        "regr = sk_LinearRegression()\n",
        "regr.fit(X_train, y_train)\n",
        "baseline = r2_score(y_test, regr.predict(X_test))\n",
        "print(\"Non-private baseline: %.2f\" % baseline)"
      ],
      "execution_count": 2,
      "outputs": [
        {
          "output_type": "stream",
          "text": [
            "Non-private baseline: 0.41\n"
          ],
          "name": "stdout"
        }
      ]
    },
    {
      "cell_type": "markdown",
      "metadata": {
        "id": "o5DXbbYYK94l"
      },
      "source": [
        "## Differentially Private Linear Regression\n",
        "First, install IBM Differential Privacy Library."
      ]
    },
    {
      "cell_type": "code",
      "metadata": {
        "id": "yXfUuD78LAJF",
        "outputId": "e61bd036-3e89-4778-f2da-750c2377308c",
        "colab": {
          "base_uri": "https://localhost:8080/"
        }
      },
      "source": [
        "!pip install diffprivlib"
      ],
      "execution_count": 3,
      "outputs": [
        {
          "output_type": "stream",
          "text": [
            "Collecting diffprivlib\n",
            "\u001b[?25l  Downloading https://files.pythonhosted.org/packages/fe/b8/852409057d6acc060f06cac8d0a45b73dfa54ee4fbd1577c9a7d755e9fb6/diffprivlib-0.3.0.tar.gz (70kB)\n",
            "\r\u001b[K     |████▋                           | 10kB 18.1MB/s eta 0:00:01\r\u001b[K     |█████████▎                      | 20kB 23.1MB/s eta 0:00:01\r\u001b[K     |██████████████                  | 30kB 28.0MB/s eta 0:00:01\r\u001b[K     |██████████████████▋             | 40kB 31.4MB/s eta 0:00:01\r\u001b[K     |███████████████████████▎        | 51kB 4.3MB/s eta 0:00:01\r\u001b[K     |████████████████████████████    | 61kB 5.1MB/s eta 0:00:01\r\u001b[K     |████████████████████████████████| 71kB 3.3MB/s \n",
            "\u001b[?25hRequirement already satisfied: numpy>=1.15.0 in /usr/local/lib/python3.6/dist-packages (from diffprivlib) (1.18.5)\n",
            "Requirement already satisfied: setuptools>=39.0.1 in /usr/local/lib/python3.6/dist-packages (from diffprivlib) (50.3.2)\n",
            "Requirement already satisfied: scikit-learn>=0.22.0 in /usr/local/lib/python3.6/dist-packages (from diffprivlib) (0.22.2.post1)\n",
            "Requirement already satisfied: scipy>=1.2.1 in /usr/local/lib/python3.6/dist-packages (from diffprivlib) (1.4.1)\n",
            "Requirement already satisfied: joblib>=0.11 in /usr/local/lib/python3.6/dist-packages (from diffprivlib) (0.17.0)\n",
            "Building wheels for collected packages: diffprivlib\n",
            "  Building wheel for diffprivlib (setup.py) ... \u001b[?25l\u001b[?25hdone\n",
            "  Created wheel for diffprivlib: filename=diffprivlib-0.3.0-cp36-none-any.whl size=138999 sha256=c7dc6a6f6ad1d2a3b1b4ad5fda02192ec21aa4b80a6f7867f0925b58a8b94663\n",
            "  Stored in directory: /root/.cache/pip/wheels/64/68/62/617183f73d3feceab2c9d4081714a27bc11be5bb3f10f59b8a\n",
            "Successfully built diffprivlib\n",
            "Installing collected packages: diffprivlib\n",
            "Successfully installed diffprivlib-0.3.0\n"
          ],
          "name": "stdout"
        }
      ]
    },
    {
      "cell_type": "markdown",
      "metadata": {
        "id": "Du9Fq8sGLBDt"
      },
      "source": [
        "Let's now train a differentially private linear regressor (epsilon=1.00), where the trained model is differentially private with respect to the training data. "
      ]
    },
    {
      "cell_type": "code",
      "metadata": {
        "id": "Gl8gUL_OLCa9",
        "outputId": "da81ea2a-5cef-434c-9121-c4f3538f59d9",
        "colab": {
          "base_uri": "https://localhost:8080/"
        }
      },
      "source": [
        "from diffprivlib.models import LinearRegression\n",
        "\n",
        "regr = LinearRegression()\n",
        "regr.fit(X_train, y_train)\n",
        "\n",
        "print(\"R2 score for epsilon=%.2f: %.2f\" % (regr.epsilon, r2_score(y_test, regr.predict(X_test))))"
      ],
      "execution_count": 4,
      "outputs": [
        {
          "output_type": "stream",
          "text": [
            "R2 score for epsilon=1.00: 0.43\n"
          ],
          "name": "stdout"
        },
        {
          "output_type": "stream",
          "text": [
            "/usr/local/lib/python3.6/dist-packages/diffprivlib/models/linear_regression.py:210: PrivacyLeakWarning: Bounds parameters haven't been specified, so falling back to determining bounds from the data.\n",
            "This will result in additional privacy leakage. To ensure differential privacy with no additional privacy loss, specify `bounds_X` and `bounds_y`.\n",
            "  PrivacyLeakWarning)\n",
            "/usr/local/lib/python3.6/dist-packages/diffprivlib/models/linear_regression.py:231: PrivacyLeakWarning: Data norm has not been specified and will be calculated on the data provided.  This will result in additional privacy leakage. To ensure differential privacy and no additional privacy leakage, specify `data_norm` at initialisation.\n",
            "  \"privacy leakage, specify `data_norm` at initialisation.\", PrivacyLeakWarning)\n"
          ],
          "name": "stderr"
        }
      ]
    }
  ]
}