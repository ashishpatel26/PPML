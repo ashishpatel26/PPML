{
  "nbformat": 4,
  "nbformat_minor": 0,
  "metadata": {
    "colab": {
      "name": "03-Differentially-Private-Naive-Bayes-Classification.ipynb",
      "provenance": []
    },
    "kernelspec": {
      "name": "python3",
      "display_name": "Python 3"
    }
  },
  "cells": [
    {
      "cell_type": "markdown",
      "metadata": {
        "id": "PPrGKxjmG1vM"
      },
      "source": [
        "First, let us load the training and testing data from the adult dataset."
      ]
    },
    {
      "cell_type": "code",
      "metadata": {
        "id": "9vaq3IhPGT7k"
      },
      "source": [
        "import numpy as np\n",
        "\n",
        "X_train = np.loadtxt(\"https://archive.ics.uci.edu/ml/machine-learning-databases/adult/adult.data\",\n",
        "                        usecols=(0, 4, 10, 11, 12), delimiter=\", \")\n",
        "\n",
        "y_train = np.loadtxt(\"https://archive.ics.uci.edu/ml/machine-learning-databases/adult/adult.data\",\n",
        "                        usecols=14, dtype=str, delimiter=\", \")\n",
        "\n",
        "X_test = np.loadtxt(\"https://archive.ics.uci.edu/ml/machine-learning-databases/adult/adult.test\",\n",
        "                        usecols=(0, 4, 10, 11, 12), delimiter=\", \", skiprows=1)\n",
        "\n",
        "y_test = np.loadtxt(\"https://archive.ics.uci.edu/ml/machine-learning-databases/adult/adult.test\",\n",
        "                        usecols=14, dtype=str, delimiter=\", \", skiprows=1)\n",
        "y_test = np.array([a[:-1] for a in y_test])"
      ],
      "execution_count": 1,
      "outputs": []
    },
    {
      "cell_type": "markdown",
      "metadata": {
        "id": "5zXoiOAMGpBf"
      },
      "source": [
        "## Naive Bayes with No Privacy\n",
        "To begin, let us first train a regular (non-private) naive Bayes classifier, and test its accuracy."
      ]
    },
    {
      "cell_type": "code",
      "metadata": {
        "id": "XmS2AOTnHDRU",
        "outputId": "98617cfa-1318-47e2-d039-2cefbe589421",
        "colab": {
          "base_uri": "https://localhost:8080/"
        }
      },
      "source": [
        "from sklearn.naive_bayes import GaussianNB\n",
        "nonprivate_clf = GaussianNB()\n",
        "nonprivate_clf.fit(X_train, y_train)\n",
        "\n",
        "from sklearn.metrics import accuracy_score\n",
        "\n",
        "print(\"Non-private test accuracy: %.2f%%\" % \n",
        "     (accuracy_score(y_test, nonprivate_clf.predict(X_test)) * 100))"
      ],
      "execution_count": 2,
      "outputs": [
        {
          "output_type": "stream",
          "text": [
            "Non-private test accuracy: 79.64%\n"
          ],
          "name": "stdout"
        }
      ]
    },
    {
      "cell_type": "markdown",
      "metadata": {
        "id": "HJQfjlnPHvuU"
      },
      "source": [
        "## Differentially Private Naive Bayes Classification\n",
        "First, install IBM Differential Privacy Library."
      ]
    },
    {
      "cell_type": "code",
      "metadata": {
        "id": "DivsusasHOa8",
        "outputId": "64b90426-fa23-489c-9305-c844a62330f1",
        "colab": {
          "base_uri": "https://localhost:8080/"
        }
      },
      "source": [
        "!pip install diffprivlib"
      ],
      "execution_count": 3,
      "outputs": [
        {
          "output_type": "stream",
          "text": [
            "Collecting diffprivlib\n",
            "\u001b[?25l  Downloading https://files.pythonhosted.org/packages/fe/b8/852409057d6acc060f06cac8d0a45b73dfa54ee4fbd1577c9a7d755e9fb6/diffprivlib-0.3.0.tar.gz (70kB)\n",
            "\r\u001b[K     |████▋                           | 10kB 20.3MB/s eta 0:00:01\r\u001b[K     |█████████▎                      | 20kB 19.2MB/s eta 0:00:01\r\u001b[K     |██████████████                  | 30kB 12.4MB/s eta 0:00:01\r\u001b[K     |██████████████████▋             | 40kB 13.7MB/s eta 0:00:01\r\u001b[K     |███████████████████████▎        | 51kB 14.9MB/s eta 0:00:01\r\u001b[K     |████████████████████████████    | 61kB 16.9MB/s eta 0:00:01\r\u001b[K     |████████████████████████████████| 71kB 5.4MB/s \n",
            "\u001b[?25hRequirement already satisfied: numpy>=1.15.0 in /usr/local/lib/python3.6/dist-packages (from diffprivlib) (1.18.5)\n",
            "Requirement already satisfied: setuptools>=39.0.1 in /usr/local/lib/python3.6/dist-packages (from diffprivlib) (50.3.2)\n",
            "Requirement already satisfied: scikit-learn>=0.22.0 in /usr/local/lib/python3.6/dist-packages (from diffprivlib) (0.22.2.post1)\n",
            "Requirement already satisfied: scipy>=1.2.1 in /usr/local/lib/python3.6/dist-packages (from diffprivlib) (1.4.1)\n",
            "Requirement already satisfied: joblib>=0.11 in /usr/local/lib/python3.6/dist-packages (from diffprivlib) (0.17.0)\n",
            "Building wheels for collected packages: diffprivlib\n",
            "  Building wheel for diffprivlib (setup.py) ... \u001b[?25l\u001b[?25hdone\n",
            "  Created wheel for diffprivlib: filename=diffprivlib-0.3.0-cp36-none-any.whl size=138999 sha256=22185221619386dc839e3b2d7b63bf732ac77bfa51155d771a4c695e64ed4080\n",
            "  Stored in directory: /root/.cache/pip/wheels/64/68/62/617183f73d3feceab2c9d4081714a27bc11be5bb3f10f59b8a\n",
            "Successfully built diffprivlib\n",
            "Installing collected packages: diffprivlib\n",
            "Successfully installed diffprivlib-0.3.0\n"
          ],
          "name": "stdout"
        }
      ]
    },
    {
      "cell_type": "markdown",
      "metadata": {
        "id": "Vr1kJpkAHPEj"
      },
      "source": [
        "Using the models.GaussianNB module of diffprivlib, we can train a naive Bayes classifier while satisfying differential privacy. If we don't specify any parameters, the model defaults to epsilon = 1.00."
      ]
    },
    {
      "cell_type": "code",
      "metadata": {
        "id": "-f4xK0_DHSbD",
        "outputId": "4cfbb43c-157e-4807-eaed-524f5f64d488",
        "colab": {
          "base_uri": "https://localhost:8080/"
        }
      },
      "source": [
        "import diffprivlib.models as dp\n",
        "dp_clf = dp.GaussianNB()\n",
        "\n",
        "dp_clf.fit(X_train, y_train)\n",
        "\n",
        "print(\"Differentially private test accuracy (epsilon=%.2f): %.2f%%\" % \n",
        "      (dp_clf.epsilon, accuracy_score(y_test, dp_clf.predict(X_test)) * 100))"
      ],
      "execution_count": 4,
      "outputs": [
        {
          "output_type": "stream",
          "text": [
            "Differentially private test accuracy (epsilon=1.00): 79.98%\n"
          ],
          "name": "stdout"
        },
        {
          "output_type": "stream",
          "text": [
            "/usr/local/lib/python3.6/dist-packages/diffprivlib/models/naive_bayes.py:102: PrivacyLeakWarning: Bounds have not been specified and will be calculated on the data provided. This will result in additional privacy leakage. To ensure differential privacy and no additional privacy leakage, specify bounds for each dimension.\n",
            "  \"privacy leakage, specify bounds for each dimension.\", PrivacyLeakWarning)\n"
          ],
          "name": "stderr"
        }
      ]
    },
    {
      "cell_type": "markdown",
      "metadata": {
        "id": "c0NjzS-IHdTM"
      },
      "source": [
        "As we can see from the output accuracies above, the regular (non-private) Naïve Bayes classifier could produce an accuracy of 79.64%, while setting epsilon=1.00, the differentially private Naïve Bayes classifier could achieve an accuracy of 78.59%. If we use a smaller epsilon, it usually leads to better privacy protection while less accuracy. For instance, if we set epsilon=0.01:"
      ]
    },
    {
      "cell_type": "code",
      "metadata": {
        "id": "P0yByQpRHeG0",
        "outputId": "38eca2b9-d4a0-49c5-814f-5abdf3804e21",
        "colab": {
          "base_uri": "https://localhost:8080/"
        }
      },
      "source": [
        "import diffprivlib.models as dp\n",
        "dp_clf = dp.GaussianNB(epsilon=float(\"0.01\"))\n",
        "dp_clf.fit(X_train, y_train)\n",
        "\n",
        "print(\"Differentially private test accuracy (epsilon=%.2f): %.2f%%\" % \n",
        "      (dp_clf.epsilon, accuracy_score(y_test, dp_clf.predict(X_test)) * 100))"
      ],
      "execution_count": 5,
      "outputs": [
        {
          "output_type": "stream",
          "text": [
            "Differentially private test accuracy (epsilon=0.01): 76.91%\n"
          ],
          "name": "stdout"
        },
        {
          "output_type": "stream",
          "text": [
            "/usr/local/lib/python3.6/dist-packages/diffprivlib/models/naive_bayes.py:102: PrivacyLeakWarning: Bounds have not been specified and will be calculated on the data provided. This will result in additional privacy leakage. To ensure differential privacy and no additional privacy leakage, specify bounds for each dimension.\n",
            "  \"privacy leakage, specify bounds for each dimension.\", PrivacyLeakWarning)\n"
          ],
          "name": "stderr"
        }
      ]
    }
  ]
}