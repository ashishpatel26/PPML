{
  "nbformat": 4,
  "nbformat_minor": 0,
  "metadata": {
    "colab": {
      "name": "03-Differentially-Private-K-means-Clustering.ipynb",
      "provenance": []
    },
    "kernelspec": {
      "name": "python3",
      "display_name": "Python 3"
    }
  },
  "cells": [
    {
      "cell_type": "markdown",
      "metadata": {
        "id": "t-48VQW3LioO"
      },
      "source": [
        "Let us consider the scenario of training a k-means clustering model on the scikit-learn load_digits dataset.\n",
        "\n",
        "We will follow the example given by scikit-learn, and use the load_digits dataset to train and test a k-means model."
      ]
    },
    {
      "cell_type": "code",
      "metadata": {
        "id": "uKilZcN1LTm1",
        "outputId": "53365959-58ad-4eae-9da1-ea6ba1a49426",
        "colab": {
          "base_uri": "https://localhost:8080/"
        }
      },
      "source": [
        "import numpy as np\n",
        "from time import time\n",
        "from sklearn import metrics\n",
        "from sklearn.cluster import KMeans\n",
        "from sklearn.datasets import load_digits\n",
        "from sklearn.preprocessing import scale\n",
        "\n",
        "X_digits, y_digits = load_digits(return_X_y=True)\n",
        "data = scale(X_digits)\n",
        "\n",
        "n_samples, n_features = data.shape\n",
        "n_digits = len(np.unique(y_digits))\n",
        "labels = y_digits\n",
        "\n",
        "sample_size = 1000\n",
        "\n",
        "print(\"n_digits: %d, \\t n_samples %d, \\t n_features %d\"\n",
        "      % (n_digits, n_samples, n_features))\n",
        "\n",
        "print('init\\t\\ttime\\tinertia\\thomo\\tcompl\\tv-meas\\tARI\\tAMI\\tsilhouette')\n",
        "\n",
        "def bench_k_means(estimator, name, data):\n",
        "    t0 = time()\n",
        "    estimator.fit(data)\n",
        "    print('%-9s\\t%.2fs\\t%i\\t%.3f\\t%.3f\\t%.3f\\t%.3f\\t%.3f\\t%.3f'\n",
        "          % (name, (time() - t0), estimator.inertia_,\n",
        "             metrics.homogeneity_score(labels, estimator.labels_),\n",
        "             metrics.completeness_score(labels, estimator.labels_),\n",
        "             metrics.v_measure_score(labels, estimator.labels_),\n",
        "             metrics.adjusted_rand_score(labels, estimator.labels_),\n",
        "             metrics.adjusted_mutual_info_score(labels,  estimator.labels_),\n",
        "             metrics.silhouette_score(data, estimator.labels_,\n",
        "                                      metric='euclidean',\n",
        "                                      sample_size=sample_size)))"
      ],
      "execution_count": 1,
      "outputs": [
        {
          "output_type": "stream",
          "text": [
            "n_digits: 10, \t n_samples 1797, \t n_features 64\n",
            "init\t\ttime\tinertia\thomo\tcompl\tv-meas\tARI\tAMI\tsilhouette\n"
          ],
          "name": "stdout"
        }
      ]
    },
    {
      "cell_type": "markdown",
      "metadata": {
        "id": "eIllcTJLLoc1"
      },
      "source": [
        "## Non-private Baseline\n",
        "We now use scikit-learn's native KMeans function to establish a non-private baseline for our experiments. We will use the k-means++ and random initialization respectively."
      ]
    },
    {
      "cell_type": "code",
      "metadata": {
        "id": "ZKIJo_4gLr8r",
        "outputId": "a3b5b33b-b1d1-4059-c11c-235800987d28",
        "colab": {
          "base_uri": "https://localhost:8080/"
        }
      },
      "source": [
        "bench_k_means(KMeans(init='k-means++', n_clusters=n_digits, n_init=100),\n",
        "              name=\"k-means++\", data=data)\n",
        "\n",
        "bench_k_means(KMeans(init='random', n_clusters=n_digits, n_init=100),\n",
        "              name=\"random\", data=data)"
      ],
      "execution_count": 2,
      "outputs": [
        {
          "output_type": "stream",
          "text": [
            "k-means++\t3.76s\t69408\t0.603\t0.651\t0.626\t0.467\t0.622\t0.144\n",
            "random   \t2.24s\t69408\t0.599\t0.648\t0.623\t0.463\t0.619\t0.145\n"
          ],
          "name": "stdout"
        }
      ]
    },
    {
      "cell_type": "markdown",
      "metadata": {
        "id": "_fQWFzgHLuLt"
      },
      "source": [
        "## Differentially Private K-means Clustering"
      ]
    },
    {
      "cell_type": "code",
      "metadata": {
        "id": "RbaOAAFyLvd-",
        "outputId": "23bd2bae-53d3-4286-b229-46331dc874fb",
        "colab": {
          "base_uri": "https://localhost:8080/"
        }
      },
      "source": [
        "!pip install diffprivlib \n",
        "from diffprivlib.models import KMeans\n",
        "\n",
        "bench_k_means(KMeans(epsilon=1.0, bounds=None, n_clusters=n_digits, init='k-means++', n_init=100), name=\"dp_k-means\", data=data)"
      ],
      "execution_count": 3,
      "outputs": [
        {
          "output_type": "stream",
          "text": [
            "Collecting diffprivlib\n",
            "\u001b[?25l  Downloading https://files.pythonhosted.org/packages/fe/b8/852409057d6acc060f06cac8d0a45b73dfa54ee4fbd1577c9a7d755e9fb6/diffprivlib-0.3.0.tar.gz (70kB)\n",
            "\r\u001b[K     |████▋                           | 10kB 15.9MB/s eta 0:00:01\r\u001b[K     |█████████▎                      | 20kB 20.9MB/s eta 0:00:01\r\u001b[K     |██████████████                  | 30kB 15.9MB/s eta 0:00:01\r\u001b[K     |██████████████████▋             | 40kB 10.8MB/s eta 0:00:01\r\u001b[K     |███████████████████████▎        | 51kB 4.5MB/s eta 0:00:01\r\u001b[K     |████████████████████████████    | 61kB 4.9MB/s eta 0:00:01\r\u001b[K     |████████████████████████████████| 71kB 3.5MB/s \n",
            "\u001b[?25hRequirement already satisfied: numpy>=1.15.0 in /usr/local/lib/python3.6/dist-packages (from diffprivlib) (1.18.5)\n",
            "Requirement already satisfied: setuptools>=39.0.1 in /usr/local/lib/python3.6/dist-packages (from diffprivlib) (50.3.2)\n",
            "Requirement already satisfied: scikit-learn>=0.22.0 in /usr/local/lib/python3.6/dist-packages (from diffprivlib) (0.22.2.post1)\n",
            "Requirement already satisfied: scipy>=1.2.1 in /usr/local/lib/python3.6/dist-packages (from diffprivlib) (1.4.1)\n",
            "Requirement already satisfied: joblib>=0.11 in /usr/local/lib/python3.6/dist-packages (from diffprivlib) (0.17.0)\n",
            "Building wheels for collected packages: diffprivlib\n",
            "  Building wheel for diffprivlib (setup.py) ... \u001b[?25l\u001b[?25hdone\n",
            "  Created wheel for diffprivlib: filename=diffprivlib-0.3.0-cp36-none-any.whl size=138999 sha256=3b8e8c5d85d73ccc67b32a5a02cee627b08a74bb340371bb070cf4797c2f6714\n",
            "  Stored in directory: /root/.cache/pip/wheels/64/68/62/617183f73d3feceab2c9d4081714a27bc11be5bb3f10f59b8a\n",
            "Successfully built diffprivlib\n",
            "Installing collected packages: diffprivlib\n",
            "Successfully installed diffprivlib-0.3.0\n",
            "dp_k-means\t0.09s\t96041\t0.314\t0.435\t0.365\t0.226\t0.360\t0.088\n"
          ],
          "name": "stdout"
        },
        {
          "output_type": "stream",
          "text": [
            "/usr/local/lib/python3.6/dist-packages/diffprivlib/utils.py:91: DiffprivlibCompatibilityWarning: Parameter 'init' is not functional in diffprivlib.  Remove this parameter to suppress this warning.\n",
            "  \"warning.\" % arg, DiffprivlibCompatibilityWarning)\n",
            "/usr/local/lib/python3.6/dist-packages/diffprivlib/utils.py:91: DiffprivlibCompatibilityWarning: Parameter 'n_init' is not functional in diffprivlib.  Remove this parameter to suppress this warning.\n",
            "  \"warning.\" % arg, DiffprivlibCompatibilityWarning)\n",
            "/usr/local/lib/python3.6/dist-packages/diffprivlib/models/k_means.py:131: PrivacyLeakWarning: Bounds have not been specified and will be calculated on the data provided.  This will result in additional privacy leakage. To ensure differential privacy and no additional privacy leakage, specify `bounds` for each dimension.\n",
            "  \"privacy leakage, specify `bounds` for each dimension.\", PrivacyLeakWarning)\n"
          ],
          "name": "stderr"
        }
      ]
    }
  ]
}