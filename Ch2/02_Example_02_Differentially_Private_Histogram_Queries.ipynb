{
  "nbformat": 4,
  "nbformat_minor": 0,
  "metadata": {
    "colab": {
      "name": "02-Example-02-Differentially-Private-Histogram-Queries.ipynb",
      "provenance": []
    },
    "kernelspec": {
      "name": "python3",
      "display_name": "Python 3"
    }
  },
  "cells": [
    {
      "cell_type": "code",
      "metadata": {
        "id": "FTg3RtgWAXIK",
        "outputId": "f26a5a33-a87a-4b90-bf7e-4d998afbcee6",
        "colab": {
          "base_uri": "https://localhost:8080/",
          "height": 265
        }
      },
      "source": [
        "import numpy as np\n",
        "import matplotlib.pyplot as plt\n",
        "\n",
        "ages_adult = np.loadtxt(\"https://archive.ics.uci.edu/ml/machine-learning-databases/adult/adult.data\", usecols=0, delimiter=\", \")\n",
        "hist, bins = np.histogram(ages_adult)\n",
        "hist = hist / hist.sum()\n",
        "plt.bar(bins[:-1], hist, width=(bins[1]-bins[0]) * 0.9)\n",
        "plt.show()"
      ],
      "execution_count": 1,
      "outputs": [
        {
          "output_type": "display_data",
          "data": {
            "image/png": "[encoded data removed]",
            "text/plain": [
              "<Figure size 432x288 with 1 Axes>"
            ]
          },
          "metadata": {
            "tags": [],
            "needs_background": "light"
          }
        }
      ]
    },
    {
      "cell_type": "code",
      "metadata": {
        "id": "J8OxjYlSAwak",
        "outputId": "63928c53-75e9-4cfb-c7b0-c6522bc3233c",
        "colab": {
          "base_uri": "https://localhost:8080/"
        }
      },
      "source": [
        "!pip install diffprivlib"
      ],
      "execution_count": 2,
      "outputs": [
        {
          "output_type": "stream",
          "text": [
            "Requirement already satisfied: diffprivlib in /usr/local/lib/python3.6/dist-packages (0.3.0)\n",
            "Requirement already satisfied: joblib>=0.11 in /usr/local/lib/python3.6/dist-packages (from diffprivlib) (0.17.0)\n",
            "Requirement already satisfied: scikit-learn>=0.22.0 in /usr/local/lib/python3.6/dist-packages (from diffprivlib) (0.22.2.post1)\n",
            "Requirement already satisfied: setuptools>=39.0.1 in /usr/local/lib/python3.6/dist-packages (from diffprivlib) (50.3.2)\n",
            "Requirement already satisfied: numpy>=1.15.0 in /usr/local/lib/python3.6/dist-packages (from diffprivlib) (1.18.5)\n",
            "Requirement already satisfied: scipy>=1.2.1 in /usr/local/lib/python3.6/dist-packages (from diffprivlib) (1.4.1)\n"
          ],
          "name": "stdout"
        }
      ]
    },
    {
      "cell_type": "code",
      "metadata": {
        "id": "0x-XuWd_Ax_F"
      },
      "source": [
        "from diffprivlib.mechanisms import Laplace\n",
        "\n",
        "def histogram_laplace(sample, epsilon=1, bins=10, range=None, normed=None, weights=None, density=None):\n",
        "\n",
        "  hist, bin_edges = np.histogram(sample, bins=bins, range=range, normed=None, weights=weights, density=None)\n",
        "  dp_mech = Laplace().set_epsilon(epsilon).set_sensitivity(1)\n",
        "  dp_hist = np.zeros_like(hist)\n",
        "\n",
        "  for i in np.arange(dp_hist.shape[0]):\n",
        "    dp_hist[i] = dp_mech.randomise(int(hist[i]))\n",
        "\n",
        "  if normed or density:\n",
        "    bin_sizes = np.array(np.diff(bin_edges), float)\n",
        "    return dp_hist / bin_sizes / dp_hist.sum(), bin_edges\n",
        "\n",
        "  return dp_hist, bin_edges\n"
      ],
      "execution_count": 3,
      "outputs": []
    },
    {
      "cell_type": "code",
      "metadata": {
        "id": "hxVf123_A60s",
        "outputId": "202b7940-8d0d-4c1d-da92-a834d3cc0cbd",
        "colab": {
          "base_uri": "https://localhost:8080/",
          "height": 265
        }
      },
      "source": [
        "dp_hist, dp_bins = histogram_laplace(ages_adult, epsilon=0.01)\n",
        "dp_hist = dp_hist / dp_hist.sum()\n",
        "\n",
        "plt.bar(dp_bins[:-1], dp_hist, width=(dp_bins[1] - dp_bins[0]) * 0.9)\n",
        "plt.show()"
      ],
      "execution_count": 4,
      "outputs": [
        {
          "output_type": "display_data",
          "data": {
            "image/png": "[encoded data removed]",
            "text/plain": [
              "<Figure size 432x288 with 1 Axes>"
            ]
          },
          "metadata": {
            "tags": [],
            "needs_background": "light"
          }
        }
      ]
    }
  ]
}