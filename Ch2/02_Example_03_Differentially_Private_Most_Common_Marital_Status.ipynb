{
  "nbformat": 4,
  "nbformat_minor": 0,
  "metadata": {
    "colab": {
      "name": "02-Example-03-Differentially-Private-Most-Common-Marital-Status.ipynb",
      "provenance": []
    },
    "kernelspec": {
      "name": "python3",
      "display_name": "Python 3"
    }
  },
  "cells": [
    {
      "cell_type": "code",
      "metadata": {
        "id": "zhYSGoQlCDtz",
        "outputId": "00245b72-b598-4e8a-c151-f4ea9da206af",
        "colab": {
          "base_uri": "https://localhost:8080/"
        }
      },
      "source": [
        "!wget https://datahub.io/machine-learning/adult/r/adult.csv"
      ],
      "execution_count": 1,
      "outputs": [
        {
          "output_type": "stream",
          "text": [
            "--2020-11-14 04:45:00--  https://datahub.io/machine-learning/adult/r/adult.csv\n",
            "Resolving datahub.io (datahub.io)... 104.18.49.253, 172.67.157.38, 104.18.48.253, ...\n",
            "Connecting to datahub.io (datahub.io)|104.18.49.253|:443... connected.\n",
            "HTTP request sent, awaiting response... 302 Found\n",
            "Location: https://pkgstore.datahub.io/machine-learning/adult/adult_csv/data/c8c87915d76926896a93604761460f22/adult_csv.csv [following]\n",
            "--2020-11-14 04:45:02--  https://pkgstore.datahub.io/machine-learning/adult/adult_csv/data/c8c87915d76926896a93604761460f22/adult_csv.csv\n",
            "Resolving pkgstore.datahub.io (pkgstore.datahub.io)... 104.18.49.253, 104.18.48.253, 172.67.157.38, ...\n",
            "Connecting to pkgstore.datahub.io (pkgstore.datahub.io)|104.18.49.253|:443... connected.\n",
            "HTTP request sent, awaiting response... 200 OK\n",
            "Length: 5202952 (5.0M) [text/csv]\n",
            "Saving to: ‘adult.csv’\n",
            "\n",
            "adult.csv           100%[===================>]   4.96M  --.-KB/s    in 0.1s    \n",
            "\n",
            "2020-11-14 04:45:02 (49.8 MB/s) - ‘adult.csv’ saved [5202952/5202952]\n",
            "\n"
          ],
          "name": "stdout"
        }
      ]
    },
    {
      "cell_type": "code",
      "metadata": {
        "id": "wQoT_sJSBcsE",
        "outputId": "59c2f6c3-07b9-4f4d-b256-d62a23c45f0f",
        "colab": {
          "base_uri": "https://localhost:8080/"
        }
      },
      "source": [
        "import matplotlib.pyplot as plt\n",
        "import pandas as pd\n",
        "import numpy as np\n",
        "\n",
        "adult = pd.read_csv(\"adult.csv\")\n",
        "\n",
        "print(\"Married-civ-spouse: \"+ str(len([i for i in adult['marital-status'] if i == 'Married-civ-spouse'])))\n",
        "print(\"Never-married: \"+ str(len([i for i in adult['marital-status'] if i == 'Never-married'])))\n",
        "print(\"Divorced: \"+ str(len([i for i in adult['marital-status'] if i == 'Divorced'])))\n",
        "print(\"Separated: \"+ str(len([i for i in adult['marital-status'] if i == 'Separated'])))\n",
        "print(\"Widowed: \"+ str(len([i for i in adult['marital-status'] if i == 'Widowed'])))\n",
        "print(\"Married-spouse-absent: \"+ str(len([i for i in adult['marital-status'] if i == 'Married-spouse-absent'])))\n",
        "print(\"Married-AF-spouse: \"+ str(len([i for i in adult['marital-status'] if i == 'Married-AF-spouse'])))\n"
      ],
      "execution_count": 2,
      "outputs": [
        {
          "output_type": "stream",
          "text": [
            "Married-civ-spouse: 22379\n",
            "Never-married: 16117\n",
            "Divorced: 6633\n",
            "Separated: 1530\n",
            "Widowed: 1518\n",
            "Married-spouse-absent: 628\n",
            "Married-AF-spouse: 37\n"
          ],
          "name": "stdout"
        }
      ]
    },
    {
      "cell_type": "code",
      "metadata": {
        "id": "Uxc8U99SDgPs"
      },
      "source": [
        "adult = pd.read_csv(\"adult.csv\")\n",
        "sets = adult['marital-status'].unique()\n",
        "\n",
        "def utility(data, sets):\n",
        "    return data.value_counts()[sets]/1000"
      ],
      "execution_count": 3,
      "outputs": []
    },
    {
      "cell_type": "code",
      "metadata": {
        "id": "4ixLUgMvDkHr"
      },
      "source": [
        "def most_common_marital_exponential(x, A, H, sensitivity, epsilon):\n",
        "    # Calculate the utility for each element of A\n",
        "    utilities = [H(x, a) for a in A]\n",
        "    \n",
        "    # Calculate the probability for each element, based on its utility\n",
        "    probabilities = [np.exp(epsilon * utility / (2 * sensitivity)) for utility in utilities]\n",
        "    \n",
        "    # Normalize the probabilties so they sum to 1\n",
        "    probabilities = probabilities / np.linalg.norm(probabilities, ord=1)\n",
        "\n",
        "    # Choose an element from A based on the probabilities\n",
        "    return np.random.choice(A, 1, p=probabilities)[0]"
      ],
      "execution_count": 4,
      "outputs": []
    },
    {
      "cell_type": "code",
      "metadata": {
        "id": "jI_UzCNsDmqz",
        "outputId": "3cdaef4e-c4fd-4d74-bbdd-f125f795635b",
        "colab": {
          "base_uri": "https://localhost:8080/",
          "height": 35
        }
      },
      "source": [
        "most_common_marital_exponential(adult['marital-status'], sets, utility, 1, 1)"
      ],
      "execution_count": 5,
      "outputs": [
        {
          "output_type": "execute_result",
          "data": {
            "application/vnd.google.colaboratory.intrinsic+json": {
              "type": "string"
            },
            "text/plain": [
              "'Married-civ-spouse'"
            ]
          },
          "metadata": {
            "tags": []
          },
          "execution_count": 5
        }
      ]
    },
    {
      "cell_type": "code",
      "metadata": {
        "id": "4VE0-ebEDodL",
        "outputId": "f8d62bde-ed5a-497e-88eb-e40167152243",
        "colab": {
          "base_uri": "https://localhost:8080/"
        }
      },
      "source": [
        "res = [most_common_marital_exponential(adult['marital-status'], sets, utility, 1, 1) for i in range(1000)]\n",
        "pd.Series(res).value_counts()"
      ],
      "execution_count": 6,
      "outputs": [
        {
          "output_type": "execute_result",
          "data": {
            "text/plain": [
              "Married-civ-spouse    956\n",
              "Never-married          43\n",
              "Divorced                1\n",
              "dtype: int64"
            ]
          },
          "metadata": {
            "tags": []
          },
          "execution_count": 6
        }
      ]
    }
  ]
}