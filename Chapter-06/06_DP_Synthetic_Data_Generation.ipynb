{
  "nbformat": 4,
  "nbformat_minor": 0,
  "metadata": {
    "colab": {
      "name": "06_DP_Synthetic_Data_Generation.ipynb",
      "provenance": []
    },
    "kernelspec": {
      "name": "python3",
      "display_name": "Python 3"
    },
    "language_info": {
      "name": "python"
    }
  },
  "cells": [
    {
      "cell_type": "code",
      "metadata": {
        "colab": {
          "base_uri": "https://localhost:8080/",
          "height": 258
        },
        "id": "F9Fhf0AsYOUe",
        "outputId": "43776b01-182c-4d4e-b512-8566aa771df7"
      },
      "source": [
        "import pandas as pd\n",
        "import numpy as np\n",
        "import matplotlib.pyplot as plt\n",
        "import sys\n",
        "import io\n",
        "import requests\n",
        "import math\n",
        "\n",
        "# load data\n",
        "req = requests.get(\"https://archive.ics.uci.edu/ml/machine-learning-databases/adult/adult.data\").content\n",
        "adult = pd.read_csv(io.StringIO(req.decode('utf-8')), header=None, na_values='?', delimiter=r\", \")\n",
        "adult.dropna()\n",
        "adult.head()"
      ],
      "execution_count": 1,
      "outputs": [
        {
          "output_type": "stream",
          "text": [
            "/usr/local/lib/python3.7/dist-packages/ipykernel_launcher.py:11: ParserWarning: Falling back to the 'python' engine because the 'c' engine does not support regex separators (separators > 1 char and different from '\\s+' are interpreted as regex); you can avoid this warning by specifying engine='python'.\n",
            "  # This is added back by InteractiveShellApp.init_path()\n"
          ],
          "name": "stderr"
        },
        {
          "output_type": "execute_result",
          "data": {
            "text/html": [
              "<div>\n",
              "<style scoped>\n",
              "    .dataframe tbody tr th:only-of-type {\n",
              "        vertical-align: middle;\n",
              "    }\n",
              "\n",
              "    .dataframe tbody tr th {\n",
              "        vertical-align: top;\n",
              "    }\n",
              "\n",
              "    .dataframe thead th {\n",
              "        text-align: right;\n",
              "    }\n",
              "</style>\n",
              "<table border=\"1\" class=\"dataframe\">\n",
              "  <thead>\n",
              "    <tr style=\"text-align: right;\">\n",
              "      <th></th>\n",
              "      <th>0</th>\n",
              "      <th>1</th>\n",
              "      <th>2</th>\n",
              "      <th>3</th>\n",
              "      <th>4</th>\n",
              "      <th>5</th>\n",
              "      <th>6</th>\n",
              "      <th>7</th>\n",
              "      <th>8</th>\n",
              "      <th>9</th>\n",
              "      <th>10</th>\n",
              "      <th>11</th>\n",
              "      <th>12</th>\n",
              "      <th>13</th>\n",
              "      <th>14</th>\n",
              "    </tr>\n",
              "  </thead>\n",
              "  <tbody>\n",
              "    <tr>\n",
              "      <th>0</th>\n",
              "      <td>39</td>\n",
              "      <td>State-gov</td>\n",
              "      <td>77516</td>\n",
              "      <td>Bachelors</td>\n",
              "      <td>13</td>\n",
              "      <td>Never-married</td>\n",
              "      <td>Adm-clerical</td>\n",
              "      <td>Not-in-family</td>\n",
              "      <td>White</td>\n",
              "      <td>Male</td>\n",
              "      <td>2174</td>\n",
              "      <td>0</td>\n",
              "      <td>40</td>\n",
              "      <td>United-States</td>\n",
              "      <td>&lt;=50K</td>\n",
              "    </tr>\n",
              "    <tr>\n",
              "      <th>1</th>\n",
              "      <td>50</td>\n",
              "      <td>Self-emp-not-inc</td>\n",
              "      <td>83311</td>\n",
              "      <td>Bachelors</td>\n",
              "      <td>13</td>\n",
              "      <td>Married-civ-spouse</td>\n",
              "      <td>Exec-managerial</td>\n",
              "      <td>Husband</td>\n",
              "      <td>White</td>\n",
              "      <td>Male</td>\n",
              "      <td>0</td>\n",
              "      <td>0</td>\n",
              "      <td>13</td>\n",
              "      <td>United-States</td>\n",
              "      <td>&lt;=50K</td>\n",
              "    </tr>\n",
              "    <tr>\n",
              "      <th>2</th>\n",
              "      <td>38</td>\n",
              "      <td>Private</td>\n",
              "      <td>215646</td>\n",
              "      <td>HS-grad</td>\n",
              "      <td>9</td>\n",
              "      <td>Divorced</td>\n",
              "      <td>Handlers-cleaners</td>\n",
              "      <td>Not-in-family</td>\n",
              "      <td>White</td>\n",
              "      <td>Male</td>\n",
              "      <td>0</td>\n",
              "      <td>0</td>\n",
              "      <td>40</td>\n",
              "      <td>United-States</td>\n",
              "      <td>&lt;=50K</td>\n",
              "    </tr>\n",
              "    <tr>\n",
              "      <th>3</th>\n",
              "      <td>53</td>\n",
              "      <td>Private</td>\n",
              "      <td>234721</td>\n",
              "      <td>11th</td>\n",
              "      <td>7</td>\n",
              "      <td>Married-civ-spouse</td>\n",
              "      <td>Handlers-cleaners</td>\n",
              "      <td>Husband</td>\n",
              "      <td>Black</td>\n",
              "      <td>Male</td>\n",
              "      <td>0</td>\n",
              "      <td>0</td>\n",
              "      <td>40</td>\n",
              "      <td>United-States</td>\n",
              "      <td>&lt;=50K</td>\n",
              "    </tr>\n",
              "    <tr>\n",
              "      <th>4</th>\n",
              "      <td>28</td>\n",
              "      <td>Private</td>\n",
              "      <td>338409</td>\n",
              "      <td>Bachelors</td>\n",
              "      <td>13</td>\n",
              "      <td>Married-civ-spouse</td>\n",
              "      <td>Prof-specialty</td>\n",
              "      <td>Wife</td>\n",
              "      <td>Black</td>\n",
              "      <td>Female</td>\n",
              "      <td>0</td>\n",
              "      <td>0</td>\n",
              "      <td>40</td>\n",
              "      <td>Cuba</td>\n",
              "      <td>&lt;=50K</td>\n",
              "    </tr>\n",
              "  </tbody>\n",
              "</table>\n",
              "</div>"
            ],
            "text/plain": [
              "   0                 1       2          3   ...  11  12             13     14\n",
              "0  39         State-gov   77516  Bachelors  ...   0  40  United-States  <=50K\n",
              "1  50  Self-emp-not-inc   83311  Bachelors  ...   0  13  United-States  <=50K\n",
              "2  38           Private  215646    HS-grad  ...   0  40  United-States  <=50K\n",
              "3  53           Private  234721       11th  ...   0  40  United-States  <=50K\n",
              "4  28           Private  338409  Bachelors  ...   0  40           Cuba  <=50K\n",
              "\n",
              "[5 rows x 15 columns]"
            ]
          },
          "metadata": {
            "tags": []
          },
          "execution_count": 1
        }
      ]
    },
    {
      "cell_type": "code",
      "metadata": {
        "colab": {
          "base_uri": "https://localhost:8080/"
        },
        "id": "Vfa6ROizagpX",
        "outputId": "eeaa72a8-3d5d-41ab-f421-c3f200c9d9f7"
      },
      "source": [
        "# the ages of people\n",
        "adult_age = adult[0].dropna()\n",
        "\n",
        "# to count the number of people within certain age ranges [lo, hi)\n",
        "def age_count_query(lo, hi):\n",
        "    return np.sum(1 for age in adult_age if age >= lo and age < hi)\n",
        "\n",
        "age_count_query(44, 55)"
      ],
      "execution_count": 2,
      "outputs": [
        {
          "output_type": "stream",
          "text": [
            "/usr/local/lib/python3.7/dist-packages/ipykernel_launcher.py:6: DeprecationWarning: Calling np.sum(generator) is deprecated, and in the future will give a different result. Use np.sum(np.fromiter(generator)) or the python sum builtin instead.\n",
            "  \n"
          ],
          "name": "stderr"
        },
        {
          "output_type": "execute_result",
          "data": {
            "text/plain": [
              "6577"
            ]
          },
          "metadata": {
            "tags": []
          },
          "execution_count": 2
        }
      ]
    },
    {
      "cell_type": "code",
      "metadata": {
        "colab": {
          "base_uri": "https://localhost:8080/",
          "height": 350
        },
        "id": "6AZFIQ-Kp2SW",
        "outputId": "4318b766-a583-4f1f-8634-5b4dc6a6770d"
      },
      "source": [
        "# the domain of ages\n",
        "age_domain = list(range(0, 100))\n",
        "\n",
        "# to create the histogram of ages using the age count query, as the synthetic data representation\n",
        "age_histogram = [age_count_query(age, age + 1) for age in age_domain]\n",
        "\n",
        "plt.bar(age_domain, age_histogram)\n",
        "plt.ylabel('The number of people (Frequency)')\n",
        "plt.xlabel('Ages')"
      ],
      "execution_count": 3,
      "outputs": [
        {
          "output_type": "stream",
          "text": [
            "/usr/local/lib/python3.7/dist-packages/ipykernel_launcher.py:6: DeprecationWarning: Calling np.sum(generator) is deprecated, and in the future will give a different result. Use np.sum(np.fromiter(generator)) or the python sum builtin instead.\n",
            "  \n"
          ],
          "name": "stderr"
        },
        {
          "output_type": "execute_result",
          "data": {
            "text/plain": [
              "Text(0.5, 0, 'Ages')"
            ]
          },
          "metadata": {
            "tags": []
          },
          "execution_count": 3
        },
        {
          "output_type": "display_data",
          "data": {
            "image/png": "[encoded data removed]",
            "text/plain": [
              "<Figure size 432x288 with 1 Axes>"
            ]
          },
          "metadata": {
            "tags": [],
            "needs_background": "light"
          }
        }
      ]
    },
    {
      "cell_type": "code",
      "metadata": {
        "colab": {
          "base_uri": "https://localhost:8080/"
        },
        "id": "q_FusrSwsXAM",
        "outputId": "c9ec8d58-9e9a-4b12-af97-c1c215aa07fb"
      },
      "source": [
        "# generate synthetic count query results from the histogram of ages synthetic representation\n",
        "def synthetic_age_count_query(syn_age_hist_rep, lo, hi):\n",
        "    return np.sum(syn_age_hist_rep[age] for age in range(lo, hi))\n",
        "\n",
        "synthetic_age_count_query(age_histogram, 44, 55)"
      ],
      "execution_count": 4,
      "outputs": [
        {
          "output_type": "stream",
          "text": [
            "/usr/local/lib/python3.7/dist-packages/ipykernel_launcher.py:3: DeprecationWarning: Calling np.sum(generator) is deprecated, and in the future will give a different result. Use np.sum(np.fromiter(generator)) or the python sum builtin instead.\n",
            "  This is separate from the ipykernel package so we can avoid doing imports until\n"
          ],
          "name": "stderr"
        },
        {
          "output_type": "execute_result",
          "data": {
            "text/plain": [
              "6577"
            ]
          },
          "metadata": {
            "tags": []
          },
          "execution_count": 4
        }
      ]
    },
    {
      "cell_type": "code",
      "metadata": {
        "colab": {
          "base_uri": "https://localhost:8080/",
          "height": 350
        },
        "id": "nPtv1XgZwUS6",
        "outputId": "79d5d0c0-82b5-4247-edc3-cb8f6a850027"
      },
      "source": [
        "# The Laplace mechanism for differential privacy\n",
        "def laplace_mechanism(data, sensitivity, epsilon):\n",
        "    return data + np.random.laplace(loc=0, scale = sensitivity / epsilon)\n",
        "\n",
        "# Differentially Private Synthetic Histogram Representation Generation\n",
        "sensitivity = 1.0\n",
        "epsilon = 1.0\n",
        "dp_age_histogram = [laplace_mechanism(age_count_query(age, age + 1), sensitivity, epsilon) for age in age_domain]\n",
        "\n",
        "plt.bar(age_domain, dp_age_histogram)\n",
        "plt.ylabel('The number of people (Frequency)')\n",
        "plt.xlabel('Ages')"
      ],
      "execution_count": 5,
      "outputs": [
        {
          "output_type": "stream",
          "text": [
            "/usr/local/lib/python3.7/dist-packages/ipykernel_launcher.py:6: DeprecationWarning: Calling np.sum(generator) is deprecated, and in the future will give a different result. Use np.sum(np.fromiter(generator)) or the python sum builtin instead.\n",
            "  \n"
          ],
          "name": "stderr"
        },
        {
          "output_type": "execute_result",
          "data": {
            "text/plain": [
              "Text(0.5, 0, 'Ages')"
            ]
          },
          "metadata": {
            "tags": []
          },
          "execution_count": 5
        },
        {
          "output_type": "display_data",
          "data": {
            "image/png": "[encoded data removed]",
            "text/plain": [
              "<Figure size 432x288 with 1 Axes>"
            ]
          },
          "metadata": {
            "tags": [],
            "needs_background": "light"
          }
        }
      ]
    },
    {
      "cell_type": "code",
      "metadata": {
        "colab": {
          "base_uri": "https://localhost:8080/"
        },
        "id": "blrK94gwdU24",
        "outputId": "cd2599db-6d4b-450a-e473-6cada7276d80"
      },
      "source": [
        "# generate differentially private count query result using differentially private synthetic histogram\n",
        "synthetic_age_count_query(dp_age_histogram, 44, 55)"
      ],
      "execution_count": 6,
      "outputs": [
        {
          "output_type": "stream",
          "text": [
            "/usr/local/lib/python3.7/dist-packages/ipykernel_launcher.py:3: DeprecationWarning: Calling np.sum(generator) is deprecated, and in the future will give a different result. Use np.sum(np.fromiter(generator)) or the python sum builtin instead.\n",
            "  This is separate from the ipykernel package so we can avoid doing imports until\n"
          ],
          "name": "stderr"
        },
        {
          "output_type": "execute_result",
          "data": {
            "text/plain": [
              "6574.254079845723"
            ]
          },
          "metadata": {
            "tags": []
          },
          "execution_count": 6
        }
      ]
    },
    {
      "cell_type": "code",
      "metadata": {
        "colab": {
          "base_uri": "https://localhost:8080/",
          "height": 296
        },
        "id": "ov46RUvAzOHE",
        "outputId": "5091adab-39d9-45bb-c2c2-83e266cd1505"
      },
      "source": [
        "dp_age_histogram_preprocessed = np.clip(dp_age_histogram, 0, None)\n",
        "dp_age_histogram_normalized = dp_age_histogram_preprocessed / np.sum(dp_age_histogram_preprocessed)\n",
        "\n",
        "plt.bar(age_domain, dp_age_histogram_normalized)\n",
        "plt.ylabel('Frequency Rates (probabilities)')\n",
        "plt.xlabel('Ages')"
      ],
      "execution_count": 7,
      "outputs": [
        {
          "output_type": "execute_result",
          "data": {
            "text/plain": [
              "Text(0.5, 0, 'Ages')"
            ]
          },
          "metadata": {
            "tags": []
          },
          "execution_count": 7
        },
        {
          "output_type": "display_data",
          "data": {
            "image/png": "[encoded data removed]",
            "text/plain": [
              "<Figure size 432x288 with 1 Axes>"
            ]
          },
          "metadata": {
            "tags": [],
            "needs_background": "light"
          }
        }
      ]
    },
    {
      "cell_type": "code",
      "metadata": {
        "colab": {
          "base_uri": "https://localhost:8080/",
          "height": 359
        },
        "id": "JMbFzCKG1kMa",
        "outputId": "14009759-383c-443e-e768-23d732616dff"
      },
      "source": [
        "def syn_tabular_data_gen(cnt):\n",
        "    return np.random.choice(age_domain, cnt, p = dp_age_histogram_normalized)\n",
        "\n",
        "syn_tabular_data = pd.DataFrame(syn_tabular_data_gen(10), columns=['Age'])\n",
        "syn_tabular_data"
      ],
      "execution_count": 8,
      "outputs": [
        {
          "output_type": "execute_result",
          "data": {
            "text/html": [
              "<div>\n",
              "<style scoped>\n",
              "    .dataframe tbody tr th:only-of-type {\n",
              "        vertical-align: middle;\n",
              "    }\n",
              "\n",
              "    .dataframe tbody tr th {\n",
              "        vertical-align: top;\n",
              "    }\n",
              "\n",
              "    .dataframe thead th {\n",
              "        text-align: right;\n",
              "    }\n",
              "</style>\n",
              "<table border=\"1\" class=\"dataframe\">\n",
              "  <thead>\n",
              "    <tr style=\"text-align: right;\">\n",
              "      <th></th>\n",
              "      <th>Age</th>\n",
              "    </tr>\n",
              "  </thead>\n",
              "  <tbody>\n",
              "    <tr>\n",
              "      <th>0</th>\n",
              "      <td>37</td>\n",
              "    </tr>\n",
              "    <tr>\n",
              "      <th>1</th>\n",
              "      <td>39</td>\n",
              "    </tr>\n",
              "    <tr>\n",
              "      <th>2</th>\n",
              "      <td>19</td>\n",
              "    </tr>\n",
              "    <tr>\n",
              "      <th>3</th>\n",
              "      <td>24</td>\n",
              "    </tr>\n",
              "    <tr>\n",
              "      <th>4</th>\n",
              "      <td>68</td>\n",
              "    </tr>\n",
              "    <tr>\n",
              "      <th>5</th>\n",
              "      <td>60</td>\n",
              "    </tr>\n",
              "    <tr>\n",
              "      <th>6</th>\n",
              "      <td>28</td>\n",
              "    </tr>\n",
              "    <tr>\n",
              "      <th>7</th>\n",
              "      <td>42</td>\n",
              "    </tr>\n",
              "    <tr>\n",
              "      <th>8</th>\n",
              "      <td>67</td>\n",
              "    </tr>\n",
              "    <tr>\n",
              "      <th>9</th>\n",
              "      <td>39</td>\n",
              "    </tr>\n",
              "  </tbody>\n",
              "</table>\n",
              "</div>"
            ],
            "text/plain": [
              "   Age\n",
              "0   37\n",
              "1   39\n",
              "2   19\n",
              "3   24\n",
              "4   68\n",
              "5   60\n",
              "6   28\n",
              "7   42\n",
              "8   67\n",
              "9   39"
            ]
          },
          "metadata": {
            "tags": []
          },
          "execution_count": 8
        }
      ]
    },
    {
      "cell_type": "code",
      "metadata": {
        "colab": {
          "base_uri": "https://localhost:8080/",
          "height": 302
        },
        "id": "85NcJHoQ2z7i",
        "outputId": "52c176c2-fb7e-4b1a-b2c6-d81519cd5583"
      },
      "source": [
        "syn_tabular_data = pd.DataFrame(syn_tabular_data_gen(len(adult_age)), columns=['Age'])\n",
        "plt.hist(syn_tabular_data['Age'], bins=age_domain)\n",
        "plt.ylabel('The number of people (Frequency) - Synthetic')\n",
        "plt.xlabel('Ages')"
      ],
      "execution_count": 9,
      "outputs": [
        {
          "output_type": "execute_result",
          "data": {
            "text/plain": [
              "Text(0.5, 0, 'Ages')"
            ]
          },
          "metadata": {
            "tags": []
          },
          "execution_count": 9
        },
        {
          "output_type": "display_data",
          "data": {
            "image/png": "[encoded data removed]",
            "text/plain": [
              "<Figure size 432x288 with 1 Axes>"
            ]
          },
          "metadata": {
            "tags": [],
            "needs_background": "light"
          }
        }
      ]
    },
    {
      "cell_type": "code",
      "metadata": {
        "colab": {
          "base_uri": "https://localhost:8080/",
          "height": 305
        },
        "id": "nY2rPqUA4aDB",
        "outputId": "13768546-910a-4365-bbff-c2dd6fec94f7"
      },
      "source": [
        "plt.bar(age_domain, age_histogram)\n",
        "plt.ylabel('The number of people (Frequency) - True Value')\n",
        "plt.xlabel('Ages')"
      ],
      "execution_count": 10,
      "outputs": [
        {
          "output_type": "execute_result",
          "data": {
            "text/plain": [
              "Text(0.5, 0, 'Ages')"
            ]
          },
          "metadata": {
            "tags": []
          },
          "execution_count": 10
        },
        {
          "output_type": "display_data",
          "data": {
            "image/png": "[encoded data removed]",
            "text/plain": [
              "<Figure size 432x288 with 1 Axes>"
            ]
          },
          "metadata": {
            "tags": [],
            "needs_background": "light"
          }
        }
      ]
    },
    {
      "cell_type": "code",
      "metadata": {
        "colab": {
          "base_uri": "https://localhost:8080/",
          "height": 419
        },
        "id": "rkV_788x3zSD",
        "outputId": "09dd7f4b-8137-4657-eb69-dcd38a6eac49"
      },
      "source": [
        "two_way_marginal_rep = adult.groupby([0, 5]).size().reset_index(name = 'count')\n",
        "two_way_marginal_rep"
      ],
      "execution_count": 11,
      "outputs": [
        {
          "output_type": "execute_result",
          "data": {
            "text/html": [
              "<div>\n",
              "<style scoped>\n",
              "    .dataframe tbody tr th:only-of-type {\n",
              "        vertical-align: middle;\n",
              "    }\n",
              "\n",
              "    .dataframe tbody tr th {\n",
              "        vertical-align: top;\n",
              "    }\n",
              "\n",
              "    .dataframe thead th {\n",
              "        text-align: right;\n",
              "    }\n",
              "</style>\n",
              "<table border=\"1\" class=\"dataframe\">\n",
              "  <thead>\n",
              "    <tr style=\"text-align: right;\">\n",
              "      <th></th>\n",
              "      <th>0</th>\n",
              "      <th>5</th>\n",
              "      <th>count</th>\n",
              "    </tr>\n",
              "  </thead>\n",
              "  <tbody>\n",
              "    <tr>\n",
              "      <th>0</th>\n",
              "      <td>17</td>\n",
              "      <td>Married-civ-spouse</td>\n",
              "      <td>2</td>\n",
              "    </tr>\n",
              "    <tr>\n",
              "      <th>1</th>\n",
              "      <td>17</td>\n",
              "      <td>Never-married</td>\n",
              "      <td>393</td>\n",
              "    </tr>\n",
              "    <tr>\n",
              "      <th>2</th>\n",
              "      <td>18</td>\n",
              "      <td>Divorced</td>\n",
              "      <td>1</td>\n",
              "    </tr>\n",
              "    <tr>\n",
              "      <th>3</th>\n",
              "      <td>18</td>\n",
              "      <td>Married-civ-spouse</td>\n",
              "      <td>7</td>\n",
              "    </tr>\n",
              "    <tr>\n",
              "      <th>4</th>\n",
              "      <td>18</td>\n",
              "      <td>Married-spouse-absent</td>\n",
              "      <td>1</td>\n",
              "    </tr>\n",
              "    <tr>\n",
              "      <th>...</th>\n",
              "      <td>...</td>\n",
              "      <td>...</td>\n",
              "      <td>...</td>\n",
              "    </tr>\n",
              "    <tr>\n",
              "      <th>391</th>\n",
              "      <td>90</td>\n",
              "      <td>Divorced</td>\n",
              "      <td>1</td>\n",
              "    </tr>\n",
              "    <tr>\n",
              "      <th>392</th>\n",
              "      <td>90</td>\n",
              "      <td>Married-civ-spouse</td>\n",
              "      <td>20</td>\n",
              "    </tr>\n",
              "    <tr>\n",
              "      <th>393</th>\n",
              "      <td>90</td>\n",
              "      <td>Never-married</td>\n",
              "      <td>14</td>\n",
              "    </tr>\n",
              "    <tr>\n",
              "      <th>394</th>\n",
              "      <td>90</td>\n",
              "      <td>Separated</td>\n",
              "      <td>2</td>\n",
              "    </tr>\n",
              "    <tr>\n",
              "      <th>395</th>\n",
              "      <td>90</td>\n",
              "      <td>Widowed</td>\n",
              "      <td>6</td>\n",
              "    </tr>\n",
              "  </tbody>\n",
              "</table>\n",
              "<p>396 rows × 3 columns</p>\n",
              "</div>"
            ],
            "text/plain": [
              "      0                      5  count\n",
              "0    17     Married-civ-spouse      2\n",
              "1    17          Never-married    393\n",
              "2    18               Divorced      1\n",
              "3    18     Married-civ-spouse      7\n",
              "4    18  Married-spouse-absent      1\n",
              "..   ..                    ...    ...\n",
              "391  90               Divorced      1\n",
              "392  90     Married-civ-spouse     20\n",
              "393  90          Never-married     14\n",
              "394  90              Separated      2\n",
              "395  90                Widowed      6\n",
              "\n",
              "[396 rows x 3 columns]"
            ]
          },
          "metadata": {
            "tags": []
          },
          "execution_count": 11
        }
      ]
    },
    {
      "cell_type": "code",
      "metadata": {
        "colab": {
          "base_uri": "https://localhost:8080/"
        },
        "id": "1t2mYFXQC5gv",
        "outputId": "71163956-41d6-4982-968c-d965763fa25a"
      },
      "source": [
        "dp_two_way_marginal_rep = laplace_mechanism(two_way_marginal_rep[\"count\"], 1, 1)\n",
        "dp_two_way_marginal_rep"
      ],
      "execution_count": 12,
      "outputs": [
        {
          "output_type": "execute_result",
          "data": {
            "text/plain": [
              "0        1.261862\n",
              "1      392.261862\n",
              "2        0.261862\n",
              "3        6.261862\n",
              "4        0.261862\n",
              "          ...    \n",
              "391      0.261862\n",
              "392     19.261862\n",
              "393     13.261862\n",
              "394      1.261862\n",
              "395      5.261862\n",
              "Name: count, Length: 396, dtype: float64"
            ]
          },
          "metadata": {
            "tags": []
          },
          "execution_count": 12
        }
      ]
    },
    {
      "cell_type": "code",
      "metadata": {
        "colab": {
          "base_uri": "https://localhost:8080/"
        },
        "id": "WOdkgWFcEUw7",
        "outputId": "be3bd683-61e9-478f-97c3-147b7eb304f9"
      },
      "source": [
        "dp_two_way_marginal_rep_preprocessed = np.clip(dp_two_way_marginal_rep, 0, None)\n",
        "dp_two_way_marginal_rep_normalized = dp_two_way_marginal_rep_preprocessed / np.sum(dp_two_way_marginal_rep_preprocessed)\n",
        "dp_two_way_marginal_rep_normalized"
      ],
      "execution_count": 13,
      "outputs": [
        {
          "output_type": "execute_result",
          "data": {
            "text/plain": [
              "0      0.000039\n",
              "1      0.012156\n",
              "2      0.000008\n",
              "3      0.000194\n",
              "4      0.000008\n",
              "         ...   \n",
              "391    0.000008\n",
              "392    0.000597\n",
              "393    0.000411\n",
              "394    0.000039\n",
              "395    0.000163\n",
              "Name: count, Length: 396, dtype: float64"
            ]
          },
          "metadata": {
            "tags": []
          },
          "execution_count": 13
        }
      ]
    },
    {
      "cell_type": "code",
      "metadata": {
        "colab": {
          "base_uri": "https://localhost:8080/"
        },
        "id": "bECV6V2nEj1H",
        "outputId": "1377fa17-3628-4d38-986b-41c24d3f4306"
      },
      "source": [
        "age_marital_pairs = [(a,b) for a,b,_ in two_way_marginal_rep.values.tolist()]\n",
        "list(zip(age_marital_pairs, dp_two_way_marginal_rep_normalized))"
      ],
      "execution_count": 14,
      "outputs": [
        {
          "output_type": "execute_result",
          "data": {
            "text/plain": [
              "[((17, 'Married-civ-spouse'), 3.910483301137522e-05),\n",
              " ((17, 'Never-married'), 0.012156110847549155),\n",
              " ((18, 'Divorced'), 8.115047807953793e-06),\n",
              " ((18, 'Married-civ-spouse'), 0.0001940537590284824),\n",
              " ((18, 'Married-spouse-absent'), 8.115047807953793e-06),\n",
              " ((18, 'Never-married'), 0.016680619487248687),\n",
              " ((18, 'Separated'), 8.115047807953793e-06),\n",
              " ((18, 'Widowed'), 8.115047807953793e-06),\n",
              " ((19, 'Divorced'), 0.00016306397382506095),\n",
              " ((19, 'Married-AF-spouse'), 3.910483301137522e-05),\n",
              " ((19, 'Married-civ-spouse'), 0.00044197204065585385),\n",
              " ((19, 'Married-spouse-absent'), 7.009461821479667e-05),\n",
              " ((19, 'Never-married'), 0.02108116898613453),\n",
              " ((19, 'Separated'), 0.00013207418862163953),\n",
              " ((20, 'Divorced'), 0.0001940537590284824),\n",
              " ((20, 'Married-civ-spouse'), 0.0011547371003345467),\n",
              " ((20, 'Married-spouse-absent'), 0.00013207418862163953),\n",
              " ((20, 'Never-married'), 0.02151502597898243),\n",
              " ((20, 'Separated'), 0.0002250435442319038),\n",
              " ((21, 'Divorced'), 0.0001010844034182181),\n",
              " ((21, 'Married-civ-spouse'), 0.0016195838783858681),\n",
              " ((21, 'Married-spouse-absent'), 0.00016306397382506095),\n",
              " ((21, 'Never-married'), 0.020151475430031887),\n",
              " ((21, 'Separated'), 0.00016306397382506095),\n",
              " ((22, 'Divorced'), 0.00047296182585927527),\n",
              " ((22, 'Married-AF-spouse'), 8.115047807953793e-06),\n",
              " ((22, 'Married-civ-spouse'), 0.0022703693676577185),\n",
              " ((22, 'Married-spouse-absent'), 0.00025603332943532523),\n",
              " ((22, 'Never-married'), 0.020151475430031887),\n",
              " ((22, 'Separated'), 0.00034900268504558954),\n",
              " ((22, 'Widowed'), 3.910483301137522e-05),\n",
              " ((23, 'Divorced'), 0.0008448392483003325),\n",
              " ((23, 'Married-civ-spouse'), 0.003355011849777468),\n",
              " ((23, 'Married-spouse-absent'), 0.0001010844034182181),\n",
              " ((23, 'Never-married'), 0.0221968012534577),\n",
              " ((23, 'Separated'), 0.0005659311814695396),\n",
              " ((24, 'Divorced'), 0.0008758290335037539),\n",
              " ((24, 'Married-AF-spouse'), 8.115047807953793e-06),\n",
              " ((24, 'Married-civ-spouse'), 0.00533835810279644),\n",
              " ((24, 'Married-spouse-absent'), 0.0001940537590284824),\n",
              " ((24, 'Never-married'), 0.017548333472944485),\n",
              " ((24, 'Separated'), 0.0006279107518763824),\n",
              " ((25, 'Divorced'), 0.0011547371003345467),\n",
              " ((25, 'Married-civ-spouse'), 0.006299041444102505),\n",
              " ((25, 'Married-spouse-absent'), 0.000379992470249011),\n",
              " ((25, 'Never-married'), 0.01739338454692738),\n",
              " ((25, 'Separated'), 0.0006898903222832254),\n",
              " ((25, 'Widowed'), 8.115047807953793e-06),\n",
              " ((26, 'Divorced'), 0.001464634952368761),\n",
              " ((26, 'Married-AF-spouse'), 3.910483301137522e-05),\n",
              " ((26, 'Married-civ-spouse'), 0.0072287350002051476),\n",
              " ((26, 'Married-spouse-absent'), 0.0001940537590284824),\n",
              " ((26, 'Never-married'), 0.014480344737805764),\n",
              " ((26, 'Separated'), 0.0007208801074866468),\n",
              " ((26, 'Widowed'), 3.910483301137522e-05),\n",
              " ((27, 'Divorced'), 0.0017125532339961325),\n",
              " ((27, 'Married-AF-spouse'), 8.115047807953793e-06),\n",
              " ((27, 'Married-civ-spouse'), 0.008344367267528319),\n",
              " ((27, 'Married-spouse-absent'), 0.0002250435442319038),\n",
              " ((27, 'Never-married'), 0.014759252804636556),\n",
              " ((27, 'Separated'), 0.0006279107518763824),\n",
              " ((27, 'Widowed'), 3.910483301137522e-05),\n",
              " ((28, 'Divorced'), 0.002177400012047454),\n",
              " ((28, 'Married-AF-spouse'), 8.115047807953793e-06),\n",
              " ((28, 'Married-civ-spouse'), 0.01029672373534387),\n",
              " ((28, 'Married-spouse-absent'), 0.0003180128998421681),\n",
              " ((28, 'Never-married'), 0.012930855477634692),\n",
              " ((28, 'Separated'), 0.0009378086039105968),\n",
              " ((28, 'Widowed'), 3.910483301137522e-05),\n",
              " ((29, 'Divorced'), 0.002611257004895354),\n",
              " ((29, 'Married-AF-spouse'), 7.009461821479667e-05),\n",
              " ((29, 'Married-civ-spouse'), 0.01051365223176782),\n",
              " ((29, 'Married-spouse-absent'), 0.00044197204065585385),\n",
              " ((29, 'Never-married'), 0.01073058072819177),\n",
              " ((29, 'Separated'), 0.0006589005370798038),\n",
              " ((29, 'Widowed'), 8.115047807953793e-06),\n",
              " ((30, 'Divorced'), 0.002921154856929568),\n",
              " ((30, 'Married-AF-spouse'), 7.009461821479667e-05),\n",
              " ((30, 'Married-civ-spouse'), 0.012187100632752577),\n",
              " ((30, 'Married-spouse-absent'), 0.00044197204065585385),\n",
              " ((30, 'Never-married'), 0.009893856527699392),\n",
              " ((30, 'Separated'), 0.0009068188187071753),\n",
              " ((30, 'Widowed'), 0.0001010844034182181),\n",
              " ((31, 'Divorced'), 0.00360293013140484),\n",
              " ((31, 'Married-civ-spouse'), 0.012837886122024427),\n",
              " ((31, 'Married-spouse-absent'), 0.0002870231146387467),\n",
              " ((31, 'Never-married'), 0.00942900974964807),\n",
              " ((31, 'Separated'), 0.0010307779595208609),\n",
              " ((31, 'Widowed'), 0.0001940537590284824),\n",
              " ((32, 'Divorced'), 0.003757879057421947),\n",
              " ((32, 'Married-AF-spouse'), 8.115047807953793e-06),\n",
              " ((32, 'Married-civ-spouse'), 0.012992835048041535),\n",
              " ((32, 'Married-spouse-absent'), 0.00025603332943532523),\n",
              " ((32, 'Never-married'), 0.007569622637442783),\n",
              " ((32, 'Separated'), 0.0008758290335037539),\n",
              " ((32, 'Widowed'), 3.910483301137522e-05),\n",
              " ((33, 'Divorced'), 0.0038818381982356326),\n",
              " ((33, 'Married-civ-spouse'), 0.013240753329668906),\n",
              " ((33, 'Married-spouse-absent'), 0.00044197204065585385),\n",
              " ((33, 'Never-married'), 0.007972489845087263),\n",
              " ((33, 'Separated'), 0.0013716655967584968),\n",
              " ((33, 'Widowed'), 7.009461821479667e-05),\n",
              " ((34, 'Divorced'), 0.0037268892722185257),\n",
              " ((34, 'Married-AF-spouse'), 8.115047807953793e-06),\n",
              " ((34, 'Married-civ-spouse'), 0.01441836516739892),\n",
              " ((34, 'Married-spouse-absent'), 0.00034900268504558954),\n",
              " ((34, 'Never-married'), 0.007476653281832519),\n",
              " ((34, 'Separated'), 0.0012786962411482324),\n",
              " ((34, 'Widowed'), 3.910483301137522e-05),\n",
              " ((35, 'Divorced'), 0.004532623687507483),\n",
              " ((35, 'Married-AF-spouse'), 3.910483301137522e-05),\n",
              " ((35, 'Married-civ-spouse'), 0.014201436670974971),\n",
              " ((35, 'Married-spouse-absent'), 0.000379992470249011),\n",
              " ((35, 'Never-married'), 0.006484980155323033),\n",
              " ((35, 'Separated'), 0.0010617677447242824),\n",
              " ((35, 'Widowed'), 0.0002870231146387467),\n",
              " ((36, 'Divorced'), 0.0050284602507622254),\n",
              " ((36, 'Married-civ-spouse'), 0.014728263019433136),\n",
              " ((36, 'Married-spouse-absent'), 0.0001940537590284824),\n",
              " ((36, 'Never-married'), 0.006113102732881976),\n",
              " ((36, 'Separated'), 0.0012167166707413896),\n",
              " ((36, 'Widowed'), 0.00041098225545243243),\n",
              " ((37, 'Divorced'), 0.004501633902304061),\n",
              " ((37, 'Married-civ-spouse'), 0.015379048508704985),\n",
              " ((37, 'Married-spouse-absent'), 0.0002870231146387467),\n",
              " ((37, 'Never-married'), 0.0048735113247451185),\n",
              " ((37, 'Separated'), 0.0012477064559448109),\n",
              " ((37, 'Widowed'), 0.00016306397382506095),\n",
              " ((38, 'Divorced'), 0.004501633902304061),\n",
              " ((38, 'Married-AF-spouse'), 8.115047807953793e-06),\n",
              " ((38, 'Married-civ-spouse'), 0.015441028079111827),\n",
              " ((38, 'Married-spouse-absent'), 0.0002870231146387467),\n",
              " ((38, 'Never-married'), 0.004160746265066425),\n",
              " ((38, 'Separated'), 0.0009068188187071753),\n",
              " ((38, 'Widowed'), 0.00016306397382506095),\n",
              " ((39, 'Divorced'), 0.00512142960637249),\n",
              " ((39, 'Married-civ-spouse'), 0.013860549033737336),\n",
              " ((39, 'Married-spouse-absent'), 0.00025603332943532523),\n",
              " ((39, 'Never-married'), 0.004656582828321169),\n",
              " ((39, 'Separated'), 0.0009687983891140182),\n",
              " ((39, 'Widowed'), 0.0002870231146387467),\n",
              " ((40, 'Divorced'), 0.00512142960637249),\n",
              " ((40, 'Married-AF-spouse'), 8.115047807953793e-06),\n",
              " ((40, 'Married-civ-spouse'), 0.013364712470482591),\n",
              " ((40, 'Married-spouse-absent'), 0.00041098225545243243),\n",
              " ((40, 'Never-married'), 0.004160746265066425),\n",
              " ((40, 'Separated'), 0.001185726885537968),\n",
              " ((40, 'Widowed'), 0.0001940537590284824),\n",
              " ((41, 'Divorced'), 0.005276378532389597),\n",
              " ((41, 'Married-civ-spouse'), 0.014542324308212607),\n",
              " ((41, 'Married-spouse-absent'), 0.00034900268504558954),\n",
              " ((41, 'Never-married'), 0.0032930322793706256),\n",
              " ((41, 'Separated'), 0.0010617677447242824),\n",
              " ((41, 'Widowed'), 0.000379992470249011),\n",
              " ((42, 'Divorced'), 0.00533835810279644),\n",
              " ((42, 'Married-civ-spouse'), 0.013860549033737336),\n",
              " ((42, 'Married-spouse-absent'), 0.00041098225545243243),\n",
              " ((42, 'Never-married'), 0.002890165071726147),\n",
              " ((42, 'Separated'), 0.0011547371003345467),\n",
              " ((42, 'Widowed'), 0.000379992470249011),\n",
              " ((43, 'Divorced'), 0.005090439821169069),\n",
              " ((43, 'Married-AF-spouse'), 8.115047807953793e-06),\n",
              " ((43, 'Married-civ-spouse'), 0.014201436670974971),\n",
              " ((43, 'Married-spouse-absent'), 0.00041098225545243243),\n",
              " ((43, 'Never-married'), 0.002766205930912461),\n",
              " ((43, 'Separated'), 0.0010617677447242824),\n",
              " ((43, 'Widowed'), 0.00016306397382506095),\n",
              " ((44, 'Divorced'), 0.004811531754338276),\n",
              " ((44, 'Married-civ-spouse'), 0.013333722685279171),\n",
              " ((44, 'Married-spouse-absent'), 0.0002870231146387467),\n",
              " ((44, 'Never-married'), 0.0028591752865227255),\n",
              " ((44, 'Separated'), 0.0007518698926900682),\n",
              " ((44, 'Widowed'), 0.00025603332943532523),\n",
              " ((45, 'Divorced'), 0.005493307028813547),\n",
              " ((45, 'Married-civ-spouse'), 0.012992835048041535),\n",
              " ((45, 'Married-spouse-absent'), 0.0002870231146387467),\n",
              " ((45, 'Never-married'), 0.0024563080788782467),\n",
              " ((45, 'Separated'), 0.0006898903222832254),\n",
              " ((45, 'Widowed'), 0.0006898903222832254),\n",
              " ((46, 'Divorced'), 0.0049974704655588046),\n",
              " ((46, 'Married-civ-spouse'), 0.013457681826092856),\n",
              " ((46, 'Married-spouse-absent'), 0.00041098225545243243),\n",
              " ((46, 'Never-married'), 0.002332348938064561),\n",
              " ((46, 'Separated'), 0.0010307779595208609),\n",
              " ((46, 'Widowed'), 0.00047296182585927527),\n",
              " ((47, 'Divorced'), 0.004439654331897218),\n",
              " ((47, 'Married-AF-spouse'), 8.115047807953793e-06),\n",
              " ((47, 'Married-civ-spouse'), 0.013922528604144177),\n",
              " ((47, 'Married-spouse-absent'), 0.00041098225545243243),\n",
              " ((47, 'Never-married'), 0.0018365123748098182),\n",
              " ((47, 'Separated'), 0.0007518698926900682),\n",
              " ((47, 'Widowed'), 0.00041098225545243243),\n",
              " ((48, 'Divorced'), 0.0037888688426253683),\n",
              " ((48, 'Married-civ-spouse'), 0.009893856527699392),\n",
              " ((48, 'Married-spouse-absent'), 0.000379992470249011),\n",
              " ((48, 'Never-married'), 0.0014336451671653396),\n",
              " ((48, 'Separated'), 0.000596920966672961),\n",
              " ((48, 'Widowed'), 0.000596920966672961),\n",
              " ((49, 'Divorced'), 0.003912827983439054),\n",
              " ((49, 'Married-civ-spouse'), 0.010668601157784927),\n",
              " ((49, 'Married-spouse-absent'), 0.0003180128998421681),\n",
              " ((49, 'Never-married'), 0.0016195838783858681),\n",
              " ((49, 'Separated'), 0.000596920966672961),\n",
              " ((49, 'Widowed'), 0.0006279107518763824),\n",
              " ((50, 'Divorced'), 0.00381985862782879),\n",
              " ((50, 'Married-civ-spouse'), 0.012466008699583371),\n",
              " ((50, 'Married-spouse-absent'), 0.0003180128998421681),\n",
              " ((50, 'Never-married'), 0.0009997881743174395),\n",
              " ((50, 'Separated'), 0.0005349413962661182),\n",
              " ((50, 'Widowed'), 0.000379992470249011),\n",
              " ((51, 'Divorced'), 0.003324022064574047),\n",
              " ((51, 'Married-civ-spouse'), 0.011939182351125207),\n",
              " ((51, 'Married-spouse-absent'), 0.0002250435442319038),\n",
              " ((51, 'Never-married'), 0.0013716655967584968),\n",
              " ((51, 'Separated'), 0.0006589005370798038),\n",
              " ((51, 'Widowed'), 0.0007828596778934896),\n",
              " ((52, 'Divorced'), 0.002766205930912461),\n",
              " ((52, 'Married-civ-spouse'), 0.009305050608834384),\n",
              " ((52, 'Married-spouse-absent'), 0.00034900268504558954),\n",
              " ((52, 'Never-married'), 0.0010617677447242824),\n",
              " ((52, 'Separated'), 0.0005659311814695396),\n",
              " ((52, 'Widowed'), 0.0006279107518763824),\n",
              " ((53, 'Divorced'), 0.002921154856929568),\n",
              " ((53, 'Married-civ-spouse'), 0.008933173186393327),\n",
              " ((53, 'Married-spouse-absent'), 0.00013207418862163953),\n",
              " ((53, 'Never-married'), 0.0010617677447242824),\n",
              " ((53, 'Separated'), 0.000379992470249011),\n",
              " ((53, 'Widowed'), 0.000813849463096911),\n",
              " ((54, 'Divorced'), 0.002115420441640611),\n",
              " ((54, 'Married-civ-spouse'), 0.008437336623138584),\n",
              " ((54, 'Married-spouse-absent'), 0.0001010844034182181),\n",
              " ((54, 'Never-married'), 0.0009997881743174395),\n",
              " ((54, 'Separated'), 0.0003180128998421681),\n",
              " ((54, 'Widowed'), 0.0007518698926900682),\n",
              " ((55, 'Divorced'), 0.0025802672196919324),\n",
              " ((55, 'Married-civ-spouse'), 0.007941500059883842),\n",
              " ((55, 'Married-spouse-absent'), 0.0001010844034182181),\n",
              " ((55, 'Never-married'), 0.0007208801074866468),\n",
              " ((55, 'Separated'), 0.00041098225545243243),\n",
              " ((55, 'Widowed'), 0.001092757529927704),\n",
              " ((56, 'Divorced'), 0.0022393795824542967),\n",
              " ((56, 'Married-civ-spouse'), 0.006887847362967512),\n",
              " ((56, 'Married-spouse-absent'), 0.0001940537590284824),\n",
              " ((56, 'Never-married'), 0.000813849463096911),\n",
              " ((56, 'Separated'), 0.0003180128998421681),\n",
              " ((56, 'Widowed'), 0.0007518698926900682),\n",
              " ((57, 'Divorced'), 0.001898491945216661),\n",
              " ((57, 'Married-civ-spouse'), 0.007011806503781197),\n",
              " ((57, 'Married-spouse-absent'), 0.00013207418862163953),\n",
              " ((57, 'Never-married'), 0.0006589005370798038),\n",
              " ((57, 'Separated'), 0.0003180128998421681),\n",
              " ((57, 'Widowed'), 0.0009378086039105968),\n",
              " ((58, 'Divorced'), 0.002115420441640611),\n",
              " ((58, 'Married-civ-spouse'), 0.007073786074188041),\n",
              " ((58, 'Married-spouse-absent'), 7.009461821479667e-05),\n",
              " ((58, 'Never-married'), 0.0009068188187071753),\n",
              " ((58, 'Separated'), 0.0001010844034182181),\n",
              " ((58, 'Widowed'), 0.0009378086039105968),\n",
              " ((59, 'Divorced'), 0.0017435430191995538),\n",
              " ((59, 'Married-civ-spouse'), 0.007011806503781197),\n",
              " ((59, 'Married-spouse-absent'), 0.0001010844034182181),\n",
              " ((59, 'Never-married'), 0.0007208801074866468),\n",
              " ((59, 'Separated'), 0.000379992470249011),\n",
              " ((59, 'Widowed'), 0.0009068188187071753),\n",
              " ((60, 'Divorced'), 0.0016505736635892897),\n",
              " ((60, 'Married-civ-spouse'), 0.006608939296136719),\n",
              " ((60, 'Married-spouse-absent'), 0.00013207418862163953),\n",
              " ((60, 'Never-married'), 0.0002250435442319038),\n",
              " ((60, 'Separated'), 0.00016306397382506095),\n",
              " ((60, 'Widowed'), 0.0007518698926900682),\n",
              " ((61, 'Divorced'), 0.0013406758115550753),\n",
              " ((61, 'Married-civ-spouse'), 0.006268051658899083),\n",
              " ((61, 'Married-spouse-absent'), 0.00016306397382506095),\n",
              " ((61, 'Never-married'), 0.00041098225545243243),\n",
              " ((61, 'Separated'), 0.0001010844034182181),\n",
              " ((61, 'Widowed'), 0.0008758290335037539),\n",
              " ((62, 'Divorced'), 0.0011237473151311252),\n",
              " ((62, 'Married-civ-spouse'), 0.004935490895151961),\n",
              " ((62, 'Never-married'), 0.00044197204065585385),\n",
              " ((62, 'Separated'), 0.00013207418862163953),\n",
              " ((62, 'Widowed'), 0.0012477064559448109),\n",
              " ((63, 'Divorced'), 0.0008758290335037539),\n",
              " ((63, 'Married-civ-spouse'), 0.00447064411710064),\n",
              " ((63, 'Married-spouse-absent'), 7.009461821479667e-05),\n",
              " ((63, 'Never-married'), 0.000379992470249011),\n",
              " ((63, 'Separated'), 0.00016306397382506095),\n",
              " ((63, 'Widowed'), 0.0010307779595208609),\n",
              " ((64, 'Divorced'), 0.0006898903222832254),\n",
              " ((64, 'Married-civ-spouse'), 0.003912827983439054),\n",
              " ((64, 'Married-spouse-absent'), 8.115047807953793e-06),\n",
              " ((64, 'Never-married'), 0.00044197204065585385),\n",
              " ((64, 'Separated'), 0.00016306397382506095),\n",
              " ((64, 'Widowed'), 0.001092757529927704),\n",
              " ((65, 'Divorced'), 0.0006898903222832254),\n",
              " ((65, 'Married-civ-spouse'), 0.0032930322793706256),\n",
              " ((65, 'Never-married'), 0.0001940537590284824),\n",
              " ((65, 'Separated'), 7.009461821479667e-05),\n",
              " ((65, 'Widowed'), 0.0011547371003345467),\n",
              " ((66, 'Divorced'), 0.00041098225545243243),\n",
              " ((66, 'Married-civ-spouse'), 0.00273521614570904),\n",
              " ((66, 'Married-spouse-absent'), 8.115047807953793e-06),\n",
              " ((66, 'Never-married'), 0.0002250435442319038),\n",
              " ((66, 'Separated'), 3.910483301137522e-05),\n",
              " ((66, 'Widowed'), 0.001092757529927704),\n",
              " ((67, 'Divorced'), 0.0006279107518763824),\n",
              " ((67, 'Married-civ-spouse'), 0.002704226360505618),\n",
              " ((67, 'Married-spouse-absent'), 8.115047807953793e-06),\n",
              " ((67, 'Never-married'), 0.0001940537590284824),\n",
              " ((67, 'Separated'), 8.115047807953793e-06),\n",
              " ((67, 'Widowed'), 0.0009997881743174395),\n",
              " ((68, 'Divorced'), 0.00041098225545243243),\n",
              " ((68, 'Married-civ-spouse'), 0.0020844306564371897),\n",
              " ((68, 'Married-spouse-absent'), 3.910483301137522e-05),\n",
              " ((68, 'Never-married'), 0.0002250435442319038),\n",
              " ((68, 'Separated'), 3.910483301137522e-05),\n",
              " ((68, 'Widowed'), 0.0007828596778934896),\n",
              " ((69, 'Divorced'), 0.0002870231146387467),\n",
              " ((69, 'Married-civ-spouse'), 0.0019914613008269254),\n",
              " ((69, 'Married-spouse-absent'), 8.115047807953793e-06),\n",
              " ((69, 'Never-married'), 0.00016306397382506095),\n",
              " ((69, 'Separated'), 7.009461821479667e-05),\n",
              " ((69, 'Widowed'), 0.0006898903222832254),\n",
              " ((70, 'Divorced'), 0.00025603332943532523),\n",
              " ((70, 'Married-civ-spouse'), 0.0016195838783858681),\n",
              " ((70, 'Never-married'), 0.00016306397382506095),\n",
              " ((70, 'Widowed'), 0.0006279107518763824),\n",
              " ((71, 'Divorced'), 0.00016306397382506095),\n",
              " ((71, 'Married-civ-spouse'), 0.001092757529927704),\n",
              " ((71, 'Never-married'), 0.0002250435442319038),\n",
              " ((71, 'Separated'), 8.115047807953793e-06),\n",
              " ((71, 'Widowed'), 0.0006279107518763824),\n",
              " ((72, 'Divorced'), 0.0001940537590284824),\n",
              " ((72, 'Married-civ-spouse'), 0.001092757529927704),\n",
              " ((72, 'Married-spouse-absent'), 3.910483301137522e-05),\n",
              " ((72, 'Never-married'), 3.910483301137522e-05),\n",
              " ((72, 'Separated'), 3.910483301137522e-05),\n",
              " ((72, 'Widowed'), 0.0005349413962661182),\n",
              " ((73, 'Divorced'), 3.910483301137522e-05),\n",
              " ((73, 'Married-civ-spouse'), 0.0012477064559448109),\n",
              " ((73, 'Married-spouse-absent'), 8.115047807953793e-06),\n",
              " ((73, 'Never-married'), 7.009461821479667e-05),\n",
              " ((73, 'Widowed'), 0.0005039516110626967),\n",
              " ((74, 'Divorced'), 0.00013207418862163953),\n",
              " ((74, 'Married-civ-spouse'), 0.0007208801074866468),\n",
              " ((74, 'Married-spouse-absent'), 8.115047807953793e-06),\n",
              " ((74, 'Never-married'), 8.115047807953793e-06),\n",
              " ((74, 'Separated'), 8.115047807953793e-06),\n",
              " ((74, 'Widowed'), 0.0005659311814695396),\n",
              " ((75, 'Divorced'), 3.910483301137522e-05),\n",
              " ((75, 'Married-AF-spouse'), 8.115047807953793e-06),\n",
              " ((75, 'Married-civ-spouse'), 0.0006589005370798038),\n",
              " ((75, 'Married-spouse-absent'), 3.910483301137522e-05),\n",
              " ((75, 'Never-married'), 0.0001010844034182181),\n",
              " ((75, 'Widowed'), 0.00041098225545243243),\n",
              " ((76, 'Divorced'), 3.910483301137522e-05),\n",
              " ((76, 'Married-civ-spouse'), 0.0006279107518763824),\n",
              " ((76, 'Never-married'), 3.910483301137522e-05),\n",
              " ((76, 'Widowed'), 0.0006279107518763824),\n",
              " ((77, 'Divorced'), 8.115047807953793e-06),\n",
              " ((77, 'Married-civ-spouse'), 0.0005039516110626967),\n",
              " ((77, 'Married-spouse-absent'), 3.910483301137522e-05),\n",
              " ((77, 'Never-married'), 7.009461821479667e-05),\n",
              " ((77, 'Widowed'), 0.00016306397382506095),\n",
              " ((78, 'Married-civ-spouse'), 0.000379992470249011),\n",
              " ((78, 'Never-married'), 3.910483301137522e-05),\n",
              " ((78, 'Widowed'), 0.0002250435442319038),\n",
              " ((79, 'Married-civ-spouse'), 0.00044197204065585385),\n",
              " ((79, 'Married-spouse-absent'), 8.115047807953793e-06),\n",
              " ((79, 'Widowed'), 0.00016306397382506095),\n",
              " ((80, 'Married-civ-spouse'), 0.00034900268504558954),\n",
              " ((80, 'Married-spouse-absent'), 8.115047807953793e-06),\n",
              " ((80, 'Never-married'), 7.009461821479667e-05),\n",
              " ((80, 'Widowed'), 0.00016306397382506095),\n",
              " ((81, 'Divorced'), 7.009461821479667e-05),\n",
              " ((81, 'Married-civ-spouse'), 0.0002250435442319038),\n",
              " ((81, 'Widowed'), 0.00025603332943532523),\n",
              " ((82, 'Married-civ-spouse'), 0.0001010844034182181),\n",
              " ((82, 'Never-married'), 8.115047807953793e-06),\n",
              " ((82, 'Widowed'), 0.0001940537590284824),\n",
              " ((83, 'Divorced'), 8.115047807953793e-06),\n",
              " ((83, 'Married-civ-spouse'), 3.910483301137522e-05),\n",
              " ((83, 'Widowed'), 7.009461821479667e-05),\n",
              " ((84, 'Married-civ-spouse'), 0.0001010844034182181),\n",
              " ((84, 'Never-married'), 8.115047807953793e-06),\n",
              " ((84, 'Widowed'), 0.00013207418862163953),\n",
              " ((85, 'Married-civ-spouse'), 8.115047807953793e-06),\n",
              " ((85, 'Widowed'), 3.910483301137522e-05),\n",
              " ((86, 'Never-married'), 8.115047807953793e-06),\n",
              " ((87, 'Widowed'), 8.115047807953793e-06),\n",
              " ((88, 'Divorced'), 8.115047807953793e-06),\n",
              " ((88, 'Married-civ-spouse'), 3.910483301137522e-05),\n",
              " ((90, 'Divorced'), 8.115047807953793e-06),\n",
              " ((90, 'Married-civ-spouse'), 0.000596920966672961),\n",
              " ((90, 'Never-married'), 0.00041098225545243243),\n",
              " ((90, 'Separated'), 3.910483301137522e-05),\n",
              " ((90, 'Widowed'), 0.00016306397382506095)]"
            ]
          },
          "metadata": {
            "tags": []
          },
          "execution_count": 14
        }
      ]
    },
    {
      "cell_type": "code",
      "metadata": {
        "colab": {
          "base_uri": "https://localhost:8080/",
          "height": 419
        },
        "id": "DQQqwXD3FRnp",
        "outputId": "0eee4b64-e31a-46ef-bbe7-eea8eed89b60"
      },
      "source": [
        "set_of_potential_samples = range(0, len(age_marital_pairs))\n",
        "\n",
        "n = laplace_mechanism(len(adult), 1.0, 1.0)\n",
        "\n",
        "generating_synthetic_data_samples = np.random.choice(set_of_potential_samples, int(max(n, 0)), p=dp_two_way_marginal_rep_normalized)\n",
        "synthetic_data_set = [age_marital_pairs[i] for i in generating_synthetic_data_samples]\n",
        "\n",
        "synthetic_data = pd.DataFrame(synthetic_data_set, columns=['Age', 'Marital status'])\n",
        "synthetic_data"
      ],
      "execution_count": 15,
      "outputs": [
        {
          "output_type": "execute_result",
          "data": {
            "text/html": [
              "<div>\n",
              "<style scoped>\n",
              "    .dataframe tbody tr th:only-of-type {\n",
              "        vertical-align: middle;\n",
              "    }\n",
              "\n",
              "    .dataframe tbody tr th {\n",
              "        vertical-align: top;\n",
              "    }\n",
              "\n",
              "    .dataframe thead th {\n",
              "        text-align: right;\n",
              "    }\n",
              "</style>\n",
              "<table border=\"1\" class=\"dataframe\">\n",
              "  <thead>\n",
              "    <tr style=\"text-align: right;\">\n",
              "      <th></th>\n",
              "      <th>Age</th>\n",
              "      <th>Marital status</th>\n",
              "    </tr>\n",
              "  </thead>\n",
              "  <tbody>\n",
              "    <tr>\n",
              "      <th>0</th>\n",
              "      <td>39</td>\n",
              "      <td>Married-civ-spouse</td>\n",
              "    </tr>\n",
              "    <tr>\n",
              "      <th>1</th>\n",
              "      <td>47</td>\n",
              "      <td>Married-civ-spouse</td>\n",
              "    </tr>\n",
              "    <tr>\n",
              "      <th>2</th>\n",
              "      <td>26</td>\n",
              "      <td>Never-married</td>\n",
              "    </tr>\n",
              "    <tr>\n",
              "      <th>3</th>\n",
              "      <td>38</td>\n",
              "      <td>Married-civ-spouse</td>\n",
              "    </tr>\n",
              "    <tr>\n",
              "      <th>4</th>\n",
              "      <td>32</td>\n",
              "      <td>Married-civ-spouse</td>\n",
              "    </tr>\n",
              "    <tr>\n",
              "      <th>...</th>\n",
              "      <td>...</td>\n",
              "      <td>...</td>\n",
              "    </tr>\n",
              "    <tr>\n",
              "      <th>32555</th>\n",
              "      <td>23</td>\n",
              "      <td>Never-married</td>\n",
              "    </tr>\n",
              "    <tr>\n",
              "      <th>32556</th>\n",
              "      <td>34</td>\n",
              "      <td>Never-married</td>\n",
              "    </tr>\n",
              "    <tr>\n",
              "      <th>32557</th>\n",
              "      <td>27</td>\n",
              "      <td>Married-civ-spouse</td>\n",
              "    </tr>\n",
              "    <tr>\n",
              "      <th>32558</th>\n",
              "      <td>55</td>\n",
              "      <td>Divorced</td>\n",
              "    </tr>\n",
              "    <tr>\n",
              "      <th>32559</th>\n",
              "      <td>66</td>\n",
              "      <td>Married-civ-spouse</td>\n",
              "    </tr>\n",
              "  </tbody>\n",
              "</table>\n",
              "<p>32560 rows × 2 columns</p>\n",
              "</div>"
            ],
            "text/plain": [
              "       Age      Marital status\n",
              "0       39  Married-civ-spouse\n",
              "1       47  Married-civ-spouse\n",
              "2       26       Never-married\n",
              "3       38  Married-civ-spouse\n",
              "4       32  Married-civ-spouse\n",
              "...    ...                 ...\n",
              "32555   23       Never-married\n",
              "32556   34       Never-married\n",
              "32557   27  Married-civ-spouse\n",
              "32558   55            Divorced\n",
              "32559   66  Married-civ-spouse\n",
              "\n",
              "[32560 rows x 2 columns]"
            ]
          },
          "metadata": {
            "tags": []
          },
          "execution_count": 15
        }
      ]
    },
    {
      "cell_type": "code",
      "metadata": {
        "colab": {
          "base_uri": "https://localhost:8080/",
          "height": 302
        },
        "id": "W-0qdtC2H4jm",
        "outputId": "99dd28fb-7f3b-4ebe-94ea-e1a3dcd8dac5"
      },
      "source": [
        "plt.hist(synthetic_data['Age'], bins=age_domain)\n",
        "plt.ylabel('The number of people (Frequency) - Synthetic')\n",
        "plt.xlabel('Ages')"
      ],
      "execution_count": 16,
      "outputs": [
        {
          "output_type": "execute_result",
          "data": {
            "text/plain": [
              "Text(0.5, 0, 'Ages')"
            ]
          },
          "metadata": {
            "tags": []
          },
          "execution_count": 16
        },
        {
          "output_type": "display_data",
          "data": {
            "image/png": "[encoded data removed]",
            "text/plain": [
              "<Figure size 432x288 with 1 Axes>"
            ]
          },
          "metadata": {
            "tags": [],
            "needs_background": "light"
          }
        }
      ]
    },
    {
      "cell_type": "code",
      "metadata": {
        "colab": {
          "base_uri": "https://localhost:8080/",
          "height": 305
        },
        "id": "xW_E-wgsI50O",
        "outputId": "e0e19489-39ab-4fd5-e192-131596cb3e5d"
      },
      "source": [
        "plt.bar(age_domain, age_histogram)\n",
        "plt.ylabel('The number of people (Frequency) - True Value')\n",
        "plt.xlabel('Ages')"
      ],
      "execution_count": 17,
      "outputs": [
        {
          "output_type": "execute_result",
          "data": {
            "text/plain": [
              "Text(0.5, 0, 'Ages')"
            ]
          },
          "metadata": {
            "tags": []
          },
          "execution_count": 17
        },
        {
          "output_type": "display_data",
          "data": {
            "image/png": "[encoded data removed]",
            "text/plain": [
              "<Figure size 432x288 with 1 Axes>"
            ]
          },
          "metadata": {
            "tags": [],
            "needs_background": "light"
          }
        }
      ]
    },
    {
      "cell_type": "code",
      "metadata": {
        "colab": {
          "base_uri": "https://localhost:8080/"
        },
        "id": "McQ11N5iHlgu",
        "outputId": "34cc05a5-a100-47f4-bd34-528c564c6fae"
      },
      "source": [
        "adult_marital_status = adult[5].dropna()\n",
        "adult_marital_status.value_counts().sort_index()"
      ],
      "execution_count": 18,
      "outputs": [
        {
          "output_type": "execute_result",
          "data": {
            "text/plain": [
              "Divorced                  4443\n",
              "Married-AF-spouse           23\n",
              "Married-civ-spouse       14976\n",
              "Married-spouse-absent      418\n",
              "Never-married            10683\n",
              "Separated                 1025\n",
              "Widowed                    993\n",
              "Name: 5, dtype: int64"
            ]
          },
          "metadata": {
            "tags": []
          },
          "execution_count": 18
        }
      ]
    },
    {
      "cell_type": "code",
      "metadata": {
        "colab": {
          "base_uri": "https://localhost:8080/"
        },
        "id": "JR48rtWSHtvf",
        "outputId": "5e34e369-81a2-43ad-b321-f5a66826c824"
      },
      "source": [
        "syn_adult_marital_status = synthetic_data['Marital status'].dropna()\n",
        "syn_adult_marital_status.value_counts().sort_index()"
      ],
      "execution_count": 19,
      "outputs": [
        {
          "output_type": "execute_result",
          "data": {
            "text/plain": [
              "Divorced                  4313\n",
              "Married-AF-spouse           12\n",
              "Married-civ-spouse       15076\n",
              "Married-spouse-absent      414\n",
              "Never-married            10739\n",
              "Separated                 1056\n",
              "Widowed                    950\n",
              "Name: Marital status, dtype: int64"
            ]
          },
          "metadata": {
            "tags": []
          },
          "execution_count": 19
        }
      ]
    }
  ]
}