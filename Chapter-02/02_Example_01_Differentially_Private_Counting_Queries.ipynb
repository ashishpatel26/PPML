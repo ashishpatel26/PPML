{
  "nbformat": 4,
  "nbformat_minor": 0,
  "metadata": {
    "colab": {
      "name": "02-Example-01-Differentially-Private-Counting-Queries.ipynb",
      "provenance": []
    },
    "kernelspec": {
      "name": "python3",
      "display_name": "Python 3"
    }
  },
  "cells": [
    {
      "cell_type": "code",
      "metadata": {
        "id": "ZhyrhSe9_X7q"
      },
      "source": [
        "import numpy as np\n",
        "import matplotlib.pyplot as plt\n",
        "ages_adult = np.loadtxt(\"https://archive.ics.uci.edu/ml/machine-learning-databases/adult/adult.data\", usecols=0, delimiter=\", \")"
      ],
      "execution_count": 1,
      "outputs": []
    },
    {
      "cell_type": "code",
      "metadata": {
        "id": "DfKxhSUT_qes",
        "outputId": "861575e0-a482-4ed5-f659-4e3481e10ed9",
        "colab": {
          "base_uri": "https://localhost:8080/"
        }
      },
      "source": [
        "count = len([i for i in ages_adult if i > 50]) \n",
        "print(count)"
      ],
      "execution_count": 2,
      "outputs": [
        {
          "output_type": "stream",
          "text": [
            "6460\n"
          ],
          "name": "stdout"
        }
      ]
    },
    {
      "cell_type": "code",
      "metadata": {
        "id": "lFErqA4J_uhL",
        "outputId": "a39c7320-5e29-46aa-e3cd-e35ead23a560",
        "colab": {
          "base_uri": "https://localhost:8080/"
        }
      },
      "source": [
        "sensitivity = 1\n",
        "epsilon = 0.1\n",
        "count = len([i for i in ages_adult if i > 50])  + np.random.laplace(loc=0, scale=sensitivity/epsilon)\n",
        "print(count)"
      ],
      "execution_count": 3,
      "outputs": [
        {
          "output_type": "stream",
          "text": [
            "6449.276292008895\n"
          ],
          "name": "stdout"
        }
      ]
    },
    {
      "cell_type": "code",
      "metadata": {
        "id": "NIozDaTp_yJ6",
        "outputId": "a7937d0b-ceab-41ea-cb76-553de7a10859",
        "colab": {
          "base_uri": "https://localhost:8080/"
        }
      },
      "source": [
        "sensitivity = 1\n",
        "epsilon = 0.001\n",
        "count = len([i for i in ages_adult if i > 50])  + np.random.laplace(loc=0, scale=sensitivity/epsilon)\n",
        "print(count)"
      ],
      "execution_count": 4,
      "outputs": [
        {
          "output_type": "stream",
          "text": [
            "8058.950794795638\n"
          ],
          "name": "stdout"
        }
      ]
    }
  ]
}