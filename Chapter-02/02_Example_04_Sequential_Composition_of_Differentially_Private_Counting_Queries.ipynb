{
  "nbformat": 4,
  "nbformat_minor": 0,
  "metadata": {
    "colab": {
      "name": "02-Example-04-Sequential-Composition-of-Differentially-Private-Counting-Queries.ipynb",
      "provenance": []
    },
    "kernelspec": {
      "name": "python3",
      "display_name": "Python 3"
    }
  },
  "cells": [
    {
      "cell_type": "code",
      "metadata": {
        "id": "0hRelfitExDz"
      },
      "source": [
        "import numpy as np\n",
        "import matplotlib.pyplot as plt\n",
        "ages_adult = np.loadtxt(\"https://archive.ics.uci.edu/ml/machine-learning-databases/adult/adult.data\", usecols=0, delimiter=\", \")\n",
        "\n",
        "sensitivity = 1\n",
        "epsilon1 = 0.1\n",
        "epsilon2 = 0.2\n",
        "epsilon3 = epsilon1 + epsilon2\n",
        "\n",
        "# satisfies 0.1-differential privacy\n",
        "def F1(x):\n",
        "    return x+np.random.laplace(loc=0, scale=sensitivity/epsilon1)\n",
        "\n",
        "# satisfies 0.2-differential privacy\n",
        "def F2(x):\n",
        "    return x+np.random.laplace(loc=0, scale=sensitivity/epsilon2)\n",
        "\n",
        "# satisfies 0.3-differential privacy\n",
        "def F3(x):\n",
        "    return x+np.random.laplace(loc=0, scale=sensitivity/epsilon3)\n",
        "\n",
        "# the sequential composition of F1 and F2\n",
        "def F_seq(x):\n",
        "    return (F1(x)+F2(x))/2"
      ],
      "execution_count": 1,
      "outputs": []
    },
    {
      "cell_type": "code",
      "metadata": {
        "id": "7CAJ1b5UFoGl",
        "outputId": "c82585cb-81a1-4992-d759-c0d0aef7c787",
        "colab": {
          "base_uri": "https://localhost:8080/",
          "height": 265
        }
      },
      "source": [
        "x = len([i for i in ages_adult if i > 50])\n",
        "\n",
        "# plot F1\n",
        "plt.hist([F1(x) for i in range(1000)], bins=50, label='F1');\n",
        "\n",
        "# plot F2 (should look the same)\n",
        "plt.hist([F2(x) for i in range(1000)], bins=50, alpha=.7, label='F2');\n",
        "\n",
        "# plot F3 (should look the same)\n",
        "plt.hist([F3(x) for i in range(1000)], bins=50, alpha=.7, label='F3');\n",
        "\n",
        "plt.legend();"
      ],
      "execution_count": 2,
      "outputs": [
        {
          "output_type": "display_data",
          "data": {
            "image/png": "[encoded data removed]",
            "text/plain": [
              "<Figure size 432x288 with 1 Axes>"
            ]
          },
          "metadata": {
            "tags": [],
            "needs_background": "light"
          }
        }
      ]
    },
    {
      "cell_type": "code",
      "metadata": {
        "id": "JaHoEF5EFtxk",
        "outputId": "ad0df775-0e51-4d7c-bbf8-074af14fcf64",
        "colab": {
          "base_uri": "https://localhost:8080/",
          "height": 265
        }
      },
      "source": [
        "# plot F_seq  \n",
        "plt.hist([F_seq(x) for i in range(1000)], bins=50, alpha=.7, label='F_seq');\n",
        "\n",
        "# plot F3 (should look the same)  \n",
        "plt.hist([F3(x) for i in range(1000)], bins=50, alpha=.7, label='F3');\n",
        "\n",
        "plt.legend();"
      ],
      "execution_count": 3,
      "outputs": [
        {
          "output_type": "display_data",
          "data": {
            "image/png": "[encoded data removed]",
            "text/plain": [
              "<Figure size 432x288 with 1 Axes>"
            ]
          },
          "metadata": {
            "tags": [],
            "needs_background": "light"
          }
        }
      ]
    }
  ]
}