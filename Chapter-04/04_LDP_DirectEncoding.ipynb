{
  "nbformat": 4,
  "nbformat_minor": 0,
  "metadata": {
    "colab": {
      "name": "04_LDP-DirectEncoding.ipynb",
      "provenance": []
    },
    "kernelspec": {
      "name": "python3",
      "display_name": "Python 3"
    }
  },
  "cells": [
    {
      "cell_type": "code",
      "metadata": {
        "colab": {
          "base_uri": "https://localhost:8080/"
        },
        "id": "yaLiXQ0s_zKu",
        "outputId": "0c0353ce-b443-4f0b-958a-e4c8b9634ec4"
      },
      "source": [
        "import pandas as pd\n",
        "import numpy as np\n",
        "import matplotlib.pyplot as plt\n",
        "import sys\n",
        "import io\n",
        "import requests\n",
        "import math\n",
        "\n",
        "# load data\n",
        "req = requests.get(\"https://archive.ics.uci.edu/ml/machine-learning-databases/adult/adult.data\").content\n",
        "adult = pd.read_csv(io.StringIO(req.decode('utf-8')), header=None, na_values='?', delimiter=r\", \")\n",
        "adult.dropna()\n",
        "adult.head()\n",
        "\n",
        "# the domains\n",
        "domain = adult[6].dropna().unique()\n",
        "domain.sort()\n",
        "domain"
      ],
      "execution_count": null,
      "outputs": [
        {
          "output_type": "stream",
          "text": [
            "/usr/local/lib/python3.7/dist-packages/ipykernel_launcher.py:11: ParserWarning: Falling back to the 'python' engine because the 'c' engine does not support regex separators (separators > 1 char and different from '\\s+' are interpreted as regex); you can avoid this warning by specifying engine='python'.\n",
            "  # This is added back by InteractiveShellApp.init_path()\n"
          ],
          "name": "stderr"
        },
        {
          "output_type": "execute_result",
          "data": {
            "text/plain": [
              "array(['Adm-clerical', 'Armed-Forces', 'Craft-repair', 'Exec-managerial',\n",
              "       'Farming-fishing', 'Handlers-cleaners', 'Machine-op-inspct',\n",
              "       'Other-service', 'Priv-house-serv', 'Prof-specialty',\n",
              "       'Protective-serv', 'Sales', 'Tech-support', 'Transport-moving'],\n",
              "      dtype=object)"
            ]
          },
          "metadata": {
            "tags": []
          },
          "execution_count": 17
        }
      ]
    },
    {
      "cell_type": "code",
      "metadata": {
        "colab": {
          "base_uri": "https://localhost:8080/"
        },
        "id": "oKuHhD7DHGae",
        "outputId": "2f29a20b-d67b-4e73-c658-0464c8a08b68"
      },
      "source": [
        "# the number of people of each occupation\n",
        "adult_occupation = adult[6].dropna()\n",
        "adult_occupation.value_counts().sort_index()"
      ],
      "execution_count": null,
      "outputs": [
        {
          "output_type": "execute_result",
          "data": {
            "text/plain": [
              "Adm-clerical         3770\n",
              "Armed-Forces            9\n",
              "Craft-repair         4099\n",
              "Exec-managerial      4066\n",
              "Farming-fishing       994\n",
              "Handlers-cleaners    1370\n",
              "Machine-op-inspct    2002\n",
              "Other-service        3295\n",
              "Priv-house-serv       149\n",
              "Prof-specialty       4140\n",
              "Protective-serv       649\n",
              "Sales                3650\n",
              "Tech-support          928\n",
              "Transport-moving     1597\n",
              "Name: 6, dtype: int64"
            ]
          },
          "metadata": {
            "tags": []
          },
          "execution_count": 18
        }
      ]
    },
    {
      "cell_type": "code",
      "metadata": {
        "colab": {
          "base_uri": "https://localhost:8080/"
        },
        "id": "1TpGIkSaGdvn",
        "outputId": "d264aeb8-d2c4-462a-9153-c769b36e6948"
      },
      "source": [
        "# direct encoding - encoding\n",
        "def encoding(answer):\n",
        "    return int(np.where(domain == answer)[0])\n",
        "\n",
        "# test the encoding\n",
        "print(encoding('Armed-Forces'))\n",
        "print(encoding('Craft-repair'))\n",
        "print(encoding('Sales'))\n",
        "print(encoding('Transport-moving'))"
      ],
      "execution_count": null,
      "outputs": [
        {
          "output_type": "stream",
          "text": [
            "1\n",
            "2\n",
            "11\n",
            "13\n"
          ],
          "name": "stdout"
        }
      ]
    },
    {
      "cell_type": "code",
      "metadata": {
        "colab": {
          "base_uri": "https://localhost:8080/"
        },
        "id": "LIkQP-C6HEcH",
        "outputId": "ab9b02e3-f363-41c8-b57f-06189032140d"
      },
      "source": [
        "# direct encoding - perturbation\n",
        "def perturbation(encoded_ans, epsilon = 5.0):\n",
        "    # size of the domain set\n",
        "    d = len(domain)\n",
        "    p = pow(math.e, epsilon) / (d - 1 + pow(math.e, epsilon))\n",
        "    q = (1.0 - p) / (d - 1.0)\n",
        "    s1 = np.random.random()\n",
        "    if s1 <= p:\n",
        "        # return itself with probability p\n",
        "        return domain[encoded_ans]\n",
        "    else:\n",
        "        s2 = np.random.randint(0, d - 1)\n",
        "        return domain[(encoded_ans + s2) % d]\n",
        "\n",
        "d = len(domain)\n",
        "# test the perturbation, epsilon = 5.0\n",
        "print(perturbation(encoding('Armed-Forces')))\n",
        "print(perturbation(encoding('Craft-repair')))\n",
        "print(perturbation(encoding('Sales')))\n",
        "print(perturbation(encoding('Transport-moving')))\n",
        "p = pow(math.e, 5.0) / (d - 1 + pow(math.e, 5.0))\n",
        "q = (1.0 - p) / (d - 1.0)\n",
        "print(\"epsilon = 5.0 \"+\"p: \"+str(p)+\" q: \"+str(q))\n",
        "print()\n",
        "\n",
        "# test the perturbation, epsilon = .1\n",
        "print(perturbation(encoding('Armed-Forces'), epsilon = .1))\n",
        "print(perturbation(encoding('Craft-repair'), epsilon = .1))\n",
        "print(perturbation(encoding('Sales'), epsilon = .1))\n",
        "print(perturbation(encoding('Transport-moving'), epsilon = .1))\n",
        "p = pow(math.e, .1) / (d - 1 + pow(math.e, .1))\n",
        "q = (1.0 - p) / (d - 1.0)\n",
        "print(\"epsilon = 0.1 \"+\"p: \"+str(p)+\" q: \"+str(q))\n",
        "print()"
      ],
      "execution_count": null,
      "outputs": [
        {
          "output_type": "stream",
          "text": [
            "Armed-Forces\n",
            "Craft-repair\n",
            "Sales\n",
            "Transport-moving\n",
            "epsilon = 5.0 p: 0.9194613371531957 q: 0.006195281757446487\n",
            "\n",
            "Craft-repair\n",
            "Exec-managerial\n",
            "Armed-Forces\n",
            "Transport-moving\n",
            "epsilon = 0.1 p: 0.07835218194055213 q: 0.0708959860045729\n",
            "\n"
          ],
          "name": "stdout"
        }
      ]
    },
    {
      "cell_type": "code",
      "metadata": {
        "colab": {
          "base_uri": "https://localhost:8080/"
        },
        "id": "26GT9aLIcyDz",
        "outputId": "10a19456-ecb9-490d-9adf-427390b5b07f"
      },
      "source": [
        "# data perturbation\n",
        "perturbed_answers = pd.DataFrame([perturbation(encoding(i)) for i in adult_occupation])\n",
        "perturbed_answers.value_counts().sort_index()"
      ],
      "execution_count": null,
      "outputs": [
        {
          "output_type": "execute_result",
          "data": {
            "text/plain": [
              "Adm-clerical         3639\n",
              "Armed-Forces          183\n",
              "Craft-repair         3934\n",
              "Exec-managerial      3932\n",
              "Farming-fishing      1110\n",
              "Handlers-cleaners    1444\n",
              "Machine-op-inspct    1998\n",
              "Other-service        3217\n",
              "Priv-house-serv       297\n",
              "Prof-specialty       4017\n",
              "Protective-serv       765\n",
              "Sales                3540\n",
              "Tech-support         1022\n",
              "Transport-moving     1620\n",
              "dtype: int64"
            ]
          },
          "metadata": {
            "tags": []
          },
          "execution_count": 21
        }
      ]
    },
    {
      "cell_type": "code",
      "metadata": {
        "colab": {
          "base_uri": "https://localhost:8080/"
        },
        "id": "69H1n8iedar-",
        "outputId": "bfc406c4-cf2a-453a-d74b-e07707531a20"
      },
      "source": [
        "# the number of people of each occupation\n",
        "adult_occupation = adult[6].dropna()\n",
        "adult_occupation.value_counts().sort_index()"
      ],
      "execution_count": null,
      "outputs": [
        {
          "output_type": "execute_result",
          "data": {
            "text/plain": [
              "Adm-clerical         3770\n",
              "Armed-Forces            9\n",
              "Craft-repair         4099\n",
              "Exec-managerial      4066\n",
              "Farming-fishing       994\n",
              "Handlers-cleaners    1370\n",
              "Machine-op-inspct    2002\n",
              "Other-service        3295\n",
              "Priv-house-serv       149\n",
              "Prof-specialty       4140\n",
              "Protective-serv       649\n",
              "Sales                3650\n",
              "Tech-support          928\n",
              "Transport-moving     1597\n",
              "Name: 6, dtype: int64"
            ]
          },
          "metadata": {
            "tags": []
          },
          "execution_count": 22
        }
      ]
    },
    {
      "cell_type": "code",
      "metadata": {
        "id": "h_kw3EZBI7YH"
      },
      "source": [
        "# direct encoding - aggregation and estimation\n",
        "def aggregation_and_estimation(answers, epsilon = 5.0):\n",
        "    n = len(answers)\n",
        "    d = len(domain)\n",
        "    p = pow(math.e, epsilon) / (d - 1 + pow(math.e, epsilon))\n",
        "    q = (1.0 - p) / (d - 1.0)\n",
        "\n",
        "    aggregator = answers.value_counts().sort_index()\n",
        "    \n",
        "    return [int((i - n*q) / (p-q)) for i in aggregator]  "
      ],
      "execution_count": null,
      "outputs": []
    },
    {
      "cell_type": "code",
      "metadata": {
        "colab": {
          "base_uri": "https://localhost:8080/"
        },
        "id": "rrfJati3MCzL",
        "outputId": "9ac9ccc0-88f0-43ab-f4a5-cef9c3858f33"
      },
      "source": [
        "# data aggregation and estimation\n",
        "estimated_answers = aggregation_and_estimation(perturbed_answers)\n",
        "list(zip(domain, estimated_answers))"
      ],
      "execution_count": null,
      "outputs": [
        {
          "output_type": "execute_result",
          "data": {
            "text/plain": [
              "[('Adm-clerical', 3776),\n",
              " ('Armed-Forces', -8),\n",
              " ('Craft-repair', 4099),\n",
              " ('Exec-managerial', 4097),\n",
              " ('Farming-fishing', 1007),\n",
              " ('Handlers-cleaners', 1372),\n",
              " ('Machine-op-inspct', 1979),\n",
              " ('Other-service', 3314),\n",
              " ('Priv-house-serv', 116),\n",
              " ('Prof-specialty', 4190),\n",
              " ('Protective-serv', 629),\n",
              " ('Sales', 3667),\n",
              " ('Tech-support', 910),\n",
              " ('Transport-moving', 1565)]"
            ]
          },
          "metadata": {
            "tags": []
          },
          "execution_count": 24
        }
      ]
    },
    {
      "cell_type": "code",
      "metadata": {
        "colab": {
          "base_uri": "https://localhost:8080/"
        },
        "id": "TWXp2i3EMC13",
        "outputId": "f3d01824-be5b-46eb-c495-fbcbaaf8ae47"
      },
      "source": [
        "# the number of people of each occupation\n",
        "adult_occupation = adult[6].dropna()\n",
        "adult_occupation.value_counts().sort_index()"
      ],
      "execution_count": null,
      "outputs": [
        {
          "output_type": "execute_result",
          "data": {
            "text/plain": [
              "Adm-clerical         3770\n",
              "Armed-Forces            9\n",
              "Craft-repair         4099\n",
              "Exec-managerial      4066\n",
              "Farming-fishing       994\n",
              "Handlers-cleaners    1370\n",
              "Machine-op-inspct    2002\n",
              "Other-service        3295\n",
              "Priv-house-serv       149\n",
              "Prof-specialty       4140\n",
              "Protective-serv       649\n",
              "Sales                3650\n",
              "Tech-support          928\n",
              "Transport-moving     1597\n",
              "Name: 6, dtype: int64"
            ]
          },
          "metadata": {
            "tags": []
          },
          "execution_count": 25
        }
      ]
    }
  ]
}