{
  "nbformat": 4,
  "nbformat_minor": 0,
  "metadata": {
    "colab": {
      "name": "04_LDP-HistogramEncoding.ipynb",
      "provenance": []
    },
    "kernelspec": {
      "name": "python3",
      "display_name": "Python 3"
    }
  },
  "cells": [
    {
      "cell_type": "code",
      "metadata": {
        "colab": {
          "base_uri": "https://localhost:8080/"
        },
        "id": "J4p729qlepMi",
        "outputId": "0edfca44-4490-4610-91a8-01497f5a5aed"
      },
      "source": [
        "import pandas as pd\n",
        "import numpy as np\n",
        "import matplotlib.pyplot as plt\n",
        "import sys\n",
        "import io\n",
        "import requests\n",
        "import math\n",
        "\n",
        "# load data\n",
        "req = requests.get(\"https://archive.ics.uci.edu/ml/machine-learning-databases/adult/adult.data\").content\n",
        "adult = pd.read_csv(io.StringIO(req.decode('utf-8')), header=None, na_values='?', delimiter=r\", \")\n",
        "adult.dropna()\n",
        "adult.head()\n",
        "\n",
        "# the domains\n",
        "domain = np.arange(10, 101)\n",
        "domain.sort()\n",
        "domain"
      ],
      "execution_count": null,
      "outputs": [
        {
          "output_type": "stream",
          "text": [
            "/usr/local/lib/python3.7/dist-packages/ipykernel_launcher.py:11: ParserWarning: Falling back to the 'python' engine because the 'c' engine does not support regex separators (separators > 1 char and different from '\\s+' are interpreted as regex); you can avoid this warning by specifying engine='python'.\n",
            "  # This is added back by InteractiveShellApp.init_path()\n"
          ],
          "name": "stderr"
        },
        {
          "output_type": "execute_result",
          "data": {
            "text/plain": [
              "array([ 10,  11,  12,  13,  14,  15,  16,  17,  18,  19,  20,  21,  22,\n",
              "        23,  24,  25,  26,  27,  28,  29,  30,  31,  32,  33,  34,  35,\n",
              "        36,  37,  38,  39,  40,  41,  42,  43,  44,  45,  46,  47,  48,\n",
              "        49,  50,  51,  52,  53,  54,  55,  56,  57,  58,  59,  60,  61,\n",
              "        62,  63,  64,  65,  66,  67,  68,  69,  70,  71,  72,  73,  74,\n",
              "        75,  76,  77,  78,  79,  80,  81,  82,  83,  84,  85,  86,  87,\n",
              "        88,  89,  90,  91,  92,  93,  94,  95,  96,  97,  98,  99, 100])"
            ]
          },
          "metadata": {
            "tags": []
          },
          "execution_count": 1
        }
      ]
    },
    {
      "cell_type": "code",
      "metadata": {
        "colab": {
          "base_uri": "https://localhost:8080/",
          "height": 296
        },
        "id": "eXbt4VtJxIKx",
        "outputId": "2618d0fe-13b1-4881-ca24-c76c390ff91e"
      },
      "source": [
        "# the ages of people\n",
        "adult_age = adult[0].dropna()\n",
        "ax = adult_age.plot.hist(bins=100, alpha=1.0)\n",
        "plt.xlabel('Ages')\n"
      ],
      "execution_count": null,
      "outputs": [
        {
          "output_type": "execute_result",
          "data": {
            "text/plain": [
              "Text(0.5, 0, 'Ages')"
            ]
          },
          "metadata": {
            "tags": []
          },
          "execution_count": 2
        },
        {
          "output_type": "display_data",
          "data": {
            "image/png": "[encoded data removed]",
            "text/plain": [
              "<Figure size 432x288 with 1 Axes>"
            ]
          },
          "metadata": {
            "tags": [],
            "needs_background": "light"
          }
        }
      ]
    },
    {
      "cell_type": "code",
      "metadata": {
        "colab": {
          "base_uri": "https://localhost:8080/"
        },
        "id": "LNhSV6kvwcNq",
        "outputId": "881263f8-ec2d-4b67-81eb-e1566ac181ea"
      },
      "source": [
        "# histogram encoding - encoding\n",
        "def encoding(answer):\n",
        "    return [1.0 if d == answer else 0.0 for d in domain]\n",
        "\n",
        "# test the encoding\n",
        "print(encoding(11))"
      ],
      "execution_count": null,
      "outputs": [
        {
          "output_type": "stream",
          "text": [
            "[0.0, 1.0, 0.0, 0.0, 0.0, 0.0, 0.0, 0.0, 0.0, 0.0, 0.0, 0.0, 0.0, 0.0, 0.0, 0.0, 0.0, 0.0, 0.0, 0.0, 0.0, 0.0, 0.0, 0.0, 0.0, 0.0, 0.0, 0.0, 0.0, 0.0, 0.0, 0.0, 0.0, 0.0, 0.0, 0.0, 0.0, 0.0, 0.0, 0.0, 0.0, 0.0, 0.0, 0.0, 0.0, 0.0, 0.0, 0.0, 0.0, 0.0, 0.0, 0.0, 0.0, 0.0, 0.0, 0.0, 0.0, 0.0, 0.0, 0.0, 0.0, 0.0, 0.0, 0.0, 0.0, 0.0, 0.0, 0.0, 0.0, 0.0, 0.0, 0.0, 0.0, 0.0, 0.0, 0.0, 0.0, 0.0, 0.0, 0.0, 0.0, 0.0, 0.0, 0.0, 0.0, 0.0, 0.0, 0.0, 0.0, 0.0, 0.0]\n"
          ],
          "name": "stdout"
        }
      ]
    },
    {
      "cell_type": "code",
      "metadata": {
        "colab": {
          "base_uri": "https://localhost:8080/",
          "height": 296
        },
        "id": "P5R6DfGfyHEA",
        "outputId": "f8b5b3bb-c497-407c-c86c-22e6f7e8cede"
      },
      "source": [
        "# data encoding\n",
        "answers = np.sum([encoding(r) for r in adult_age], axis=0)\n",
        "plt.bar(domain, answers)\n",
        "plt.ylabel('Frequency')\n",
        "plt.xlabel('Ages')"
      ],
      "execution_count": null,
      "outputs": [
        {
          "output_type": "execute_result",
          "data": {
            "text/plain": [
              "Text(0.5, 0, 'Ages')"
            ]
          },
          "metadata": {
            "tags": []
          },
          "execution_count": 4
        },
        {
          "output_type": "display_data",
          "data": {
            "image/png": "[encoded data removed]",
            "text/plain": [
              "<Figure size 432x288 with 1 Axes>"
            ]
          },
          "metadata": {
            "tags": [],
            "needs_background": "light"
          }
        }
      ]
    },
    {
      "cell_type": "code",
      "metadata": {
        "colab": {
          "base_uri": "https://localhost:8080/"
        },
        "id": "uv5EDPnxzJqp",
        "outputId": "dd81338d-46f9-4289-e43d-47e52148f9b2"
      },
      "source": [
        "# Summation with Histogram Encoding - perturbation\n",
        "def she_perturbation(encoded_ans, epsilon = 5.0):\n",
        "    return [she_perturb_bit(b, epsilon) for b in encoded_ans]\n",
        "\n",
        "def she_perturb_bit(bit, epsilon = 5.0):\n",
        "    return bit + np.random.laplace(loc=0, scale = 2 / epsilon)\n",
        "\n",
        "# test the perturbation, epsilon = 5.0\n",
        "print(she_perturbation(encoding(11)))\n",
        "print()\n",
        "\n",
        "# test the perturbation, epsilon = .1\n",
        "print(she_perturbation(encoding(11), epsilon = .1))"
      ],
      "execution_count": null,
      "outputs": [
        {
          "output_type": "stream",
          "text": [
            "[-0.25294433337222055, 1.2560660378135848, -0.3406380759723715, 0.4594603418315362, 1.1448518237498502, -0.2001697854999237, 0.5124262446289104, 0.14883271670653722, 0.07439814683055332, 0.4196411878076538, 0.3166549360797435, 0.05271470430123383, -0.2380288871662249, 0.12927697630788682, 1.0610606977213572, 0.04321374407475653, 0.7134688896315136, 0.22892151273012507, 0.12263239473054438, -0.18530209504882902, 0.20557821463504597, -0.13593342528924082, -0.08285066090884995, -0.6180746275792965, 0.065043772198649, 1.0147575827084656, 1.3014896498820823, 0.09905004561093611, -0.16686898289085883, -0.667656318020352, 0.09726474016240798, -0.0960472077622372, 0.6127350691763812, -0.20468200583785842, 0.24707868260497556, 0.10332593774842046, 0.059758028184712236, -0.09842838010375289, 0.049845036371913155, 0.21335122572137674, 0.0897509186294261, -0.06812407323537688, 0.5372285669540384, 0.21008436234499356, 0.06156761609878014, 0.30925097247982064, 0.0022735899383479656, -0.2633632964293357, 0.050087269740474505, -0.2211338079978834, -1.043529243459652, 0.6466553506896868, 0.1878139076612022, -0.22325365068213224, 0.633955603382952, 0.04245065054652285, -0.18913874056987573, 0.8317752105703922, -0.1137371698302907, 0.6994980870958192, -0.4550053091998345, -2.0698323215509027, 0.9553519639796297, -0.3848595200562297, -0.0705029814113136, 0.04108662126861036, -0.9346006193685871, -0.6439700018847668, 1.537863499824183, 0.12305093471808187, 0.13171103699754436, 0.296165686951693, 0.5940606992104843, -0.49715105709081053, -0.4277219645635259, -0.46845840981135556, 0.1643298294813324, -0.5264717939972895, -0.11264939358666654, -1.6363674100110819, -0.1914303988055165, 0.10710727265430112, -0.41842201722025907, 0.46739746416694294, -0.20672319476211337, -0.42972711786849144, -0.03301202911947969, 1.2115898951067023, 0.31997393440965816, 0.16724742336703488, 0.28930763161421885]\n",
            "\n",
            "[26.40644371570226, 14.744332307611664, -19.538504343733415, -16.984413349894716, -1.6791879856600818, 21.7988966333212, -38.98836356436519, -9.973417775199138, -41.101611029512064, -7.3430783665156785, 34.93630053554129, 22.01312758179938, -36.083028251659655, 25.48724311836115, -31.544665068837304, 0.5684933536200188, 10.260497225726379, -4.146305151637478, 6.51463173484998, 33.82817474451299, -35.29472624229882, -18.4608609423252, -0.24490883107533334, -16.35282021700095, -35.13381356428634, 0.41518301583026057, 34.408381011332374, -17.148016581506525, -1.4540014651039774, -5.9261597727807205, -16.65052177484281, 17.733490500317014, 6.774090420267246, -18.48425745932405, 90.47377293128478, 28.93665796785588, 12.41298815456804, 8.153213487188955, 13.025087221762009, 2.459611091530341, 50.34627432044317, 22.759227309732125, -8.158178838211253, -6.510959722077687, 1.822153094984753, -44.19192020835271, 1.9601159702995565, -58.547005879342564, -5.792721314395745, 57.10185405703726, 6.456771130053244, 5.543299978236659, -5.194475951630144, -11.760084323624895, 2.44846195439776, 8.098029517504337, -5.19966366106922, 8.605647982170446, 23.502199912217957, 17.528302031208398, -7.824126873019557, 10.534636705710067, -4.9632586284965114, -1.1623297218415898, 20.603376607768787, 10.98833840325111, 10.999609746511203, -24.186894504693, -22.225242554510224, -29.818655996773643, -8.055252385632675, -3.7946968174289757, -39.0978100423214, -54.094419008829995, 0.3774614596608913, -22.77763514421646, 50.96102644869772, 16.849396103998984, 78.83379857026351, -4.4502152712011265, -59.815623293094326, -67.32173123204537, 15.62955907247883, 23.860537330740684, 7.116493610029848, 1.9508918948351277, -9.03795114117839, -21.99780920960677, 6.352250147670276, 11.710740818087535, -6.460863968952172]\n"
          ],
          "name": "stdout"
        }
      ]
    },
    {
      "cell_type": "code",
      "metadata": {
        "colab": {
          "base_uri": "https://localhost:8080/",
          "height": 296
        },
        "id": "zsdyI9-s1Ypo",
        "outputId": "9a4bcaea-0804-4eae-d4b9-4c53ab6e2475"
      },
      "source": [
        "# data perturbation, aggregation and estimation\n",
        "she_estimated_answers = np.sum([she_perturbation(encoding(r)) for r in adult_age], axis=0)\n",
        "plt.bar(domain, she_estimated_answers)\n",
        "plt.ylabel('Frequency')\n",
        "plt.xlabel('Ages')"
      ],
      "execution_count": null,
      "outputs": [
        {
          "output_type": "execute_result",
          "data": {
            "text/plain": [
              "Text(0.5, 0, 'Ages')"
            ]
          },
          "metadata": {
            "tags": []
          },
          "execution_count": 6
        },
        {
          "output_type": "display_data",
          "data": {
            "image/png": "[encoded data removed]",
            "text/plain": [
              "<Figure size 432x288 with 1 Axes>"
            ]
          },
          "metadata": {
            "tags": [],
            "needs_background": "light"
          }
        }
      ]
    },
    {
      "cell_type": "code",
      "metadata": {
        "colab": {
          "base_uri": "https://localhost:8080/",
          "height": 296
        },
        "id": "R9efki7219Mq",
        "outputId": "9e479f6d-0180-4f11-8675-5209bac33216"
      },
      "source": [
        "# the actual result\n",
        "plt.bar(domain, answers)\n",
        "plt.ylabel('Frequency')\n",
        "plt.xlabel('Ages')"
      ],
      "execution_count": null,
      "outputs": [
        {
          "output_type": "execute_result",
          "data": {
            "text/plain": [
              "Text(0.5, 0, 'Ages')"
            ]
          },
          "metadata": {
            "tags": []
          },
          "execution_count": 7
        },
        {
          "output_type": "display_data",
          "data": {
            "image/png": "[encoded data removed]",
            "text/plain": [
              "<Figure size 432x288 with 1 Axes>"
            ]
          },
          "metadata": {
            "tags": [],
            "needs_background": "light"
          }
        }
      ]
    },
    {
      "cell_type": "code",
      "metadata": {
        "id": "mLqIIYR52enn"
      },
      "source": [
        "################################################################################"
      ],
      "execution_count": null,
      "outputs": []
    },
    {
      "cell_type": "code",
      "metadata": {
        "colab": {
          "base_uri": "https://localhost:8080/"
        },
        "id": "2_NlzJPb2fjo",
        "outputId": "efede422-f837-43f6-def8-5ef25f1b8076"
      },
      "source": [
        "# Thresholding with Histogram Encoding - perturbation\n",
        "def the_perturbation(encoded_ans, epsilon = 5.0, theta = 1.0):\n",
        "    return [the_perturb_bit(b, epsilon, theta) for b in encoded_ans]\n",
        "\n",
        "def the_perturb_bit(bit, epsilon = 5.0, theta = 1.0):\n",
        "    val = bit + np.random.laplace(loc=0, scale = 2 / epsilon)\n",
        "\n",
        "    if val > theta:\n",
        "        return 1.0\n",
        "    else:\n",
        "        return 0.0\n",
        "\n",
        "# test the perturbation, epsilon = 5.0\n",
        "print(the_perturbation(encoding(11)))\n",
        "print()\n",
        "\n",
        "# test the perturbation, epsilon = .1\n",
        "print(the_perturbation(encoding(11), epsilon = .1))"
      ],
      "execution_count": null,
      "outputs": [
        {
          "output_type": "stream",
          "text": [
            "[0.0, 0.0, 0.0, 0.0, 0.0, 0.0, 0.0, 0.0, 0.0, 0.0, 0.0, 0.0, 0.0, 0.0, 0.0, 0.0, 0.0, 0.0, 0.0, 0.0, 0.0, 0.0, 0.0, 0.0, 0.0, 0.0, 0.0, 0.0, 0.0, 0.0, 0.0, 0.0, 0.0, 0.0, 0.0, 0.0, 0.0, 0.0, 0.0, 0.0, 0.0, 0.0, 0.0, 0.0, 0.0, 0.0, 0.0, 0.0, 0.0, 0.0, 0.0, 0.0, 0.0, 0.0, 0.0, 0.0, 0.0, 0.0, 0.0, 0.0, 0.0, 0.0, 0.0, 0.0, 0.0, 0.0, 0.0, 1.0, 0.0, 0.0, 0.0, 0.0, 0.0, 0.0, 0.0, 0.0, 0.0, 0.0, 0.0, 0.0, 0.0, 0.0, 0.0, 0.0, 1.0, 0.0, 0.0, 0.0, 0.0, 0.0, 0.0]\n",
            "\n",
            "[1.0, 0.0, 0.0, 1.0, 1.0, 1.0, 1.0, 1.0, 1.0, 0.0, 0.0, 0.0, 0.0, 0.0, 0.0, 1.0, 1.0, 1.0, 0.0, 0.0, 0.0, 0.0, 1.0, 0.0, 1.0, 1.0, 0.0, 1.0, 1.0, 1.0, 1.0, 1.0, 1.0, 0.0, 1.0, 1.0, 0.0, 1.0, 0.0, 0.0, 0.0, 0.0, 1.0, 0.0, 0.0, 0.0, 0.0, 1.0, 0.0, 1.0, 1.0, 0.0, 0.0, 0.0, 0.0, 1.0, 0.0, 0.0, 0.0, 1.0, 1.0, 0.0, 0.0, 0.0, 1.0, 1.0, 0.0, 1.0, 1.0, 1.0, 1.0, 0.0, 1.0, 1.0, 0.0, 0.0, 1.0, 1.0, 0.0, 0.0, 0.0, 1.0, 1.0, 1.0, 1.0, 1.0, 0.0, 1.0, 0.0, 1.0, 1.0]\n"
          ],
          "name": "stdout"
        }
      ]
    },
    {
      "cell_type": "code",
      "metadata": {
        "colab": {
          "base_uri": "https://localhost:8080/",
          "height": 296
        },
        "id": "V4gOGJms4Bmh",
        "outputId": "e40d38f5-a36c-4ab2-9f7f-bf390be6679e"
      },
      "source": [
        "# data perturbation\n",
        "the_perturbed_answers = np.sum([the_perturbation(encoding(r)) for r in adult_age], axis=0)\n",
        "plt.bar(domain, the_perturbed_answers)\n",
        "plt.ylabel('Frequency')\n",
        "plt.xlabel('Ages')"
      ],
      "execution_count": null,
      "outputs": [
        {
          "output_type": "execute_result",
          "data": {
            "text/plain": [
              "Text(0.5, 0, 'Ages')"
            ]
          },
          "metadata": {
            "tags": []
          },
          "execution_count": 10
        },
        {
          "output_type": "display_data",
          "data": {
            "image/png": "[encoded data removed]",
            "text/plain": [
              "<Figure size 432x288 with 1 Axes>"
            ]
          },
          "metadata": {
            "tags": [],
            "needs_background": "light"
          }
        }
      ]
    },
    {
      "cell_type": "code",
      "metadata": {
        "colab": {
          "base_uri": "https://localhost:8080/",
          "height": 296
        },
        "id": "8khfvXnh43tH",
        "outputId": "ff32e09b-7226-468e-ebf8-a888c5d5a6b3"
      },
      "source": [
        "# the actual result\n",
        "plt.bar(domain, answers)\n",
        "plt.ylabel('Frequency')\n",
        "plt.xlabel('Ages')"
      ],
      "execution_count": null,
      "outputs": [
        {
          "output_type": "execute_result",
          "data": {
            "text/plain": [
              "Text(0.5, 0, 'Ages')"
            ]
          },
          "metadata": {
            "tags": []
          },
          "execution_count": 11
        },
        {
          "output_type": "display_data",
          "data": {
            "image/png": "[encoded data removed]",
            "text/plain": [
              "<Figure size 432x288 with 1 Axes>"
            ]
          },
          "metadata": {
            "tags": [],
            "needs_background": "light"
          }
        }
      ]
    },
    {
      "cell_type": "code",
      "metadata": {
        "id": "qyQAuaY348iT"
      },
      "source": [
        "# Thresholding with Histogram Encoding - aggregation and estimation\n",
        "def the_aggregation_and_estimation(answers, epsilon = 5.0, theta = 1.0):\n",
        "    p = 1 - 0.5 * pow(math.e, epsilon / 2 * (1.0 - theta))\n",
        "    q = 0.5 * pow(math.e, epsilon / 2 * (0.0 - theta))\n",
        "    \n",
        "    sums = np.sum(answers, axis=0)\n",
        "    n = len(answers)\n",
        "    \n",
        "    return [int((i - n * q) / (p-q)) for i in sums]  "
      ],
      "execution_count": null,
      "outputs": []
    },
    {
      "cell_type": "code",
      "metadata": {
        "colab": {
          "base_uri": "https://localhost:8080/",
          "height": 299
        },
        "id": "Izhvszse5iNC",
        "outputId": "c3b26d7a-18a1-41c3-e81c-6fd387f7b2d2"
      },
      "source": [
        "# data aggregation and estimation\n",
        "the_perturbed_answers = [the_perturbation(encoding(r)) for r in adult_age]\n",
        "estimated_answers = the_aggregation_and_estimation(the_perturbed_answers)\n",
        "plt.bar(domain, estimated_answers)\n",
        "plt.ylabel('Frequency')\n",
        "plt.xlabel('Ages')"
      ],
      "execution_count": null,
      "outputs": [
        {
          "output_type": "execute_result",
          "data": {
            "text/plain": [
              "Text(0.5, 0, 'Ages')"
            ]
          },
          "metadata": {
            "tags": []
          },
          "execution_count": 13
        },
        {
          "output_type": "display_data",
          "data": {
            "image/png": "[encoded data removed]",
            "text/plain": [
              "<Figure size 432x288 with 1 Axes>"
            ]
          },
          "metadata": {
            "tags": [],
            "needs_background": "light"
          }
        }
      ]
    },
    {
      "cell_type": "code",
      "metadata": {
        "colab": {
          "base_uri": "https://localhost:8080/",
          "height": 296
        },
        "id": "KS6IeH_o5uoQ",
        "outputId": "ff4444b1-aede-4054-af43-d15c6a31152b"
      },
      "source": [
        "# the actual result\n",
        "plt.bar(domain, answers)\n",
        "plt.ylabel('Frequency')\n",
        "plt.xlabel('Ages')"
      ],
      "execution_count": null,
      "outputs": [
        {
          "output_type": "execute_result",
          "data": {
            "text/plain": [
              "Text(0.5, 0, 'Ages')"
            ]
          },
          "metadata": {
            "tags": []
          },
          "execution_count": 14
        },
        {
          "output_type": "display_data",
          "data": {
            "image/png": "[encoded data removed]",
            "text/plain": [
              "<Figure size 432x288 with 1 Axes>"
            ]
          },
          "metadata": {
            "tags": [],
            "needs_background": "light"
          }
        }
      ]
    }
  ]
}