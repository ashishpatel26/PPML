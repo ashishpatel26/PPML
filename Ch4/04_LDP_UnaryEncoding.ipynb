{
  "nbformat": 4,
  "nbformat_minor": 0,
  "metadata": {
    "colab": {
      "name": "04_LDP-UnaryEncoding.ipynb",
      "provenance": []
    },
    "kernelspec": {
      "name": "python3",
      "display_name": "Python 3"
    }
  },
  "cells": [
    {
      "cell_type": "code",
      "metadata": {
        "colab": {
          "base_uri": "https://localhost:8080/"
        },
        "id": "I6OWzXdOe6L4",
        "outputId": "1bbdb0b3-8876-4bd5-db1a-0e9076f991d0"
      },
      "source": [
        "import pandas as pd\r\n",
        "import numpy as np\r\n",
        "import matplotlib.pyplot as plt\r\n",
        "import sys\r\n",
        "import io\r\n",
        "import requests\r\n",
        "import math\r\n",
        "\r\n",
        "# load data\r\n",
        "req = requests.get(\"https://archive.ics.uci.edu/ml/machine-learning-databases/adult/adult.data\").content\r\n",
        "adult = pd.read_csv(io.StringIO(req.decode('utf-8')), header=None, na_values='?', delimiter=r\", \")\r\n",
        "adult.dropna()\r\n",
        "adult.head()\r\n",
        "\r\n",
        "# the domains\r\n",
        "domain = adult[8].dropna().unique()\r\n",
        "domain.sort()\r\n",
        "domain"
      ],
      "execution_count": null,
      "outputs": [
        {
          "output_type": "stream",
          "text": [
            "/usr/local/lib/python3.6/dist-packages/ipykernel_launcher.py:11: ParserWarning: Falling back to the 'python' engine because the 'c' engine does not support regex separators (separators > 1 char and different from '\\s+' are interpreted as regex); you can avoid this warning by specifying engine='python'.\n",
            "  # This is added back by InteractiveShellApp.init_path()\n"
          ],
          "name": "stderr"
        },
        {
          "output_type": "execute_result",
          "data": {
            "text/plain": [
              "array(['Amer-Indian-Eskimo', 'Asian-Pac-Islander', 'Black', 'Other',\n",
              "       'White'], dtype=object)"
            ]
          },
          "metadata": {
            "tags": []
          },
          "execution_count": 1
        }
      ]
    },
    {
      "cell_type": "code",
      "metadata": {
        "colab": {
          "base_uri": "https://localhost:8080/"
        },
        "id": "K3EM7ohngc5j",
        "outputId": "30470f6f-048d-4d35-e521-1f67ec4395c7"
      },
      "source": [
        "# the number of people of each race\r\n",
        "adult_race = adult[8].dropna()\r\n",
        "adult_race.value_counts().sort_index()"
      ],
      "execution_count": null,
      "outputs": [
        {
          "output_type": "execute_result",
          "data": {
            "text/plain": [
              "Amer-Indian-Eskimo      311\n",
              "Asian-Pac-Islander     1039\n",
              "Black                  3124\n",
              "Other                   271\n",
              "White                 27816\n",
              "Name: 8, dtype: int64"
            ]
          },
          "metadata": {
            "tags": []
          },
          "execution_count": 4
        }
      ]
    },
    {
      "cell_type": "code",
      "metadata": {
        "colab": {
          "base_uri": "https://localhost:8080/"
        },
        "id": "WBJJNuQmgl6h",
        "outputId": "9d49936b-a357-457c-b653-bc78618309f0"
      },
      "source": [
        "# unary encoding - encoding\r\n",
        "def encoding(answer):\r\n",
        "    return [1 if d == answer else 0 for d in domain]\r\n",
        "\r\n",
        "# test the encoding\r\n",
        "print(encoding('Amer-Indian-Eskimo'))\r\n",
        "print(encoding('Asian-Pac-Islander'))\r\n",
        "print(encoding('Black'))\r\n",
        "print(encoding('Other'))\r\n",
        "print(encoding('White'))"
      ],
      "execution_count": null,
      "outputs": [
        {
          "output_type": "stream",
          "text": [
            "[1, 0, 0, 0, 0]\n",
            "[0, 1, 0, 0, 0]\n",
            "[0, 0, 1, 0, 0]\n",
            "[0, 0, 0, 1, 0]\n",
            "[0, 0, 0, 0, 1]\n"
          ],
          "name": "stdout"
        }
      ]
    },
    {
      "cell_type": "code",
      "metadata": {
        "colab": {
          "base_uri": "https://localhost:8080/"
        },
        "id": "cnL6b4D1ntZh",
        "outputId": "aeea2dd9-360d-4781-ef28-e0040e258615"
      },
      "source": [
        "# data encoding\r\n",
        "answers = np.sum([encoding(r) for r in adult_race], axis=0)\r\n",
        "list(zip(domain, answers))"
      ],
      "execution_count": null,
      "outputs": [
        {
          "output_type": "execute_result",
          "data": {
            "text/plain": [
              "[('Amer-Indian-Eskimo', 311),\n",
              " ('Asian-Pac-Islander', 1039),\n",
              " ('Black', 3124),\n",
              " ('Other', 271),\n",
              " ('White', 27816)]"
            ]
          },
          "metadata": {
            "tags": []
          },
          "execution_count": 46
        }
      ]
    },
    {
      "cell_type": "code",
      "metadata": {
        "colab": {
          "base_uri": "https://localhost:8080/"
        },
        "id": "b4ULqHzzhn1z",
        "outputId": "71f516db-7a7c-4529-b3df-d8c9bb2c33ff"
      },
      "source": [
        "# symmetric unary encoding - perturbation\r\n",
        "def sym_perturbation(encoded_ans, epsilon = 5.0):\r\n",
        "    return [sym_perturb_bit(b, epsilon) for b in encoded_ans]\r\n",
        "\r\n",
        "def sym_perturb_bit(bit, epsilon = 5.0):\r\n",
        "    p = pow(math.e, epsilon / 2) / (1 + pow(math.e, epsilon / 2))\r\n",
        "    q = 1 - p\r\n",
        "\r\n",
        "    s = np.random.random()\r\n",
        "    if bit == 1:\r\n",
        "        if s <= p:\r\n",
        "            return 1\r\n",
        "        else:\r\n",
        "            return 0\r\n",
        "    elif bit == 0:\r\n",
        "        if s <= q:\r\n",
        "            return 1\r\n",
        "        else: \r\n",
        "            return 0\r\n",
        "\r\n",
        "# test the perturbation, epsilon = 5.0\r\n",
        "print(sym_perturbation(encoding('Amer-Indian-Eskimo')))\r\n",
        "print(sym_perturbation(encoding('Asian-Pac-Islander')))\r\n",
        "print(sym_perturbation(encoding('Black')))\r\n",
        "print(sym_perturbation(encoding('Other')))\r\n",
        "print(sym_perturbation(encoding('White')))\r\n",
        "print()\r\n",
        "\r\n",
        "# test the perturbation, epsilon = .1\r\n",
        "print(sym_perturbation(encoding('Amer-Indian-Eskimo'), epsilon = .1))\r\n",
        "print(sym_perturbation(encoding('Asian-Pac-Islander'), epsilon = .1))\r\n",
        "print(sym_perturbation(encoding('Black'), epsilon = .1))\r\n",
        "print(sym_perturbation(encoding('Other'), epsilon = .1))\r\n",
        "print(sym_perturbation(encoding('White'), epsilon = .1))"
      ],
      "execution_count": null,
      "outputs": [
        {
          "output_type": "stream",
          "text": [
            "[1, 0, 0, 0, 0]\n",
            "[0, 1, 0, 0, 0]\n",
            "[0, 0, 1, 0, 0]\n",
            "[0, 0, 0, 1, 0]\n",
            "[0, 0, 0, 0, 1]\n",
            "\n",
            "[1, 1, 0, 0, 1]\n",
            "[0, 1, 1, 0, 1]\n",
            "[1, 0, 1, 0, 0]\n",
            "[1, 0, 0, 0, 1]\n",
            "[1, 0, 0, 0, 1]\n"
          ],
          "name": "stdout"
        }
      ]
    },
    {
      "cell_type": "code",
      "metadata": {
        "colab": {
          "base_uri": "https://localhost:8080/"
        },
        "id": "wwK002Wwnh58",
        "outputId": "3860a0fb-3d87-48d7-cb9b-9be2b4edbe4b"
      },
      "source": [
        "# data perturbation\r\n",
        "sym_perturbed_answers = np.sum([sym_perturbation(encoding(r)) for r in adult_race], axis=0)\r\n",
        "list(zip(domain, sym_perturbed_answers))"
      ],
      "execution_count": null,
      "outputs": [
        {
          "output_type": "execute_result",
          "data": {
            "text/plain": [
              "[('Amer-Indian-Eskimo', 2851),\n",
              " ('Asian-Pac-Islander', 3269),\n",
              " ('Black', 5129),\n",
              " ('Other', 2590),\n",
              " ('White', 26063)]"
            ]
          },
          "metadata": {
            "tags": []
          },
          "execution_count": 48
        }
      ]
    },
    {
      "cell_type": "code",
      "metadata": {
        "colab": {
          "base_uri": "https://localhost:8080/"
        },
        "id": "SVETK6pNnR_t",
        "outputId": "4540c1bd-f254-4a83-c085-eb5e5d810d2f"
      },
      "source": [
        "# the actual number of people of each race\r\n",
        "list(zip(domain, answers))"
      ],
      "execution_count": null,
      "outputs": [
        {
          "output_type": "execute_result",
          "data": {
            "text/plain": [
              "[('Amer-Indian-Eskimo', 311),\n",
              " ('Asian-Pac-Islander', 1039),\n",
              " ('Black', 3124),\n",
              " ('Other', 271),\n",
              " ('White', 27816)]"
            ]
          },
          "metadata": {
            "tags": []
          },
          "execution_count": 49
        }
      ]
    },
    {
      "cell_type": "code",
      "metadata": {
        "id": "0AQh_4yyoPFy"
      },
      "source": [
        "# symmetric unary encoding - aggregation and estimation\r\n",
        "def sym_aggregation_and_estimation(answers, epsilon = 5.0):\r\n",
        "    p = pow(math.e, epsilon / 2) / (1 + pow(math.e, epsilon / 2))\r\n",
        "    q = 1 - p\r\n",
        "    \r\n",
        "    sums = np.sum(answers, axis=0)\r\n",
        "    n = len(answers)\r\n",
        "    \r\n",
        "    return [int((i - n * q) / (p-q)) for i in sums]  "
      ],
      "execution_count": null,
      "outputs": []
    },
    {
      "cell_type": "code",
      "metadata": {
        "colab": {
          "base_uri": "https://localhost:8080/"
        },
        "id": "UVRIBkTFprRq",
        "outputId": "25760d9b-69ac-4690-b8db-5cc429cd3a23"
      },
      "source": [
        "# data aggregation and estimation\r\n",
        "sym_perturbed_answers = [sym_perturbation(encoding(r)) for r in adult_race]\r\n",
        "estimated_answers = sym_aggregation_and_estimation(sym_perturbed_answers)\r\n",
        "list(zip(domain, estimated_answers))"
      ],
      "execution_count": null,
      "outputs": [
        {
          "output_type": "execute_result",
          "data": {
            "text/plain": [
              "[('Amer-Indian-Eskimo', 215),\n",
              " ('Asian-Pac-Islander', 1082),\n",
              " ('Black', 3180),\n",
              " ('Other', 196),\n",
              " ('White', 27791)]"
            ]
          },
          "metadata": {
            "tags": []
          },
          "execution_count": 55
        }
      ]
    },
    {
      "cell_type": "code",
      "metadata": {
        "colab": {
          "base_uri": "https://localhost:8080/"
        },
        "id": "WCliS_IVpvDk",
        "outputId": "c4d332ec-b78c-4dc4-b02c-2cc0541462d2"
      },
      "source": [
        "# the actual number of people of each race\r\n",
        "list(zip(domain, answers))"
      ],
      "execution_count": null,
      "outputs": [
        {
          "output_type": "execute_result",
          "data": {
            "text/plain": [
              "[('Amer-Indian-Eskimo', 311),\n",
              " ('Asian-Pac-Islander', 1039),\n",
              " ('Black', 3124),\n",
              " ('Other', 271),\n",
              " ('White', 27816)]"
            ]
          },
          "metadata": {
            "tags": []
          },
          "execution_count": 53
        }
      ]
    },
    {
      "cell_type": "code",
      "metadata": {
        "id": "RkygbnD9qM-g"
      },
      "source": [
        "################################################################################"
      ],
      "execution_count": null,
      "outputs": []
    },
    {
      "cell_type": "code",
      "metadata": {
        "colab": {
          "base_uri": "https://localhost:8080/"
        },
        "id": "jRzgLRVUqZSr",
        "outputId": "d2e2dee8-081b-4601-e478-476fde98733c"
      },
      "source": [
        "# optimized unary encoding - perturbation\r\n",
        "def opt_perturbation(encoded_ans, epsilon = 5.0):\r\n",
        "    return [opt_perturb_bit(b, epsilon) for b in encoded_ans]\r\n",
        "\r\n",
        "def opt_perturb_bit(bit, epsilon = 5.0):\r\n",
        "    p = 1 / 2\r\n",
        "    q = 1 / (1 + pow(math.e, epsilon))\r\n",
        "\r\n",
        "    s = np.random.random()\r\n",
        "    if bit == 1:\r\n",
        "        if s <= p:\r\n",
        "            return 1\r\n",
        "        else:\r\n",
        "            return 0\r\n",
        "    elif bit == 0:\r\n",
        "        if s <= q:\r\n",
        "            return 1\r\n",
        "        else: \r\n",
        "            return 0\r\n",
        "\r\n",
        "# test the perturbation, epsilon = 5.0\r\n",
        "print(opt_perturbation(encoding('Amer-Indian-Eskimo')))\r\n",
        "print(opt_perturbation(encoding('Asian-Pac-Islander')))\r\n",
        "print(opt_perturbation(encoding('Black')))\r\n",
        "print(opt_perturbation(encoding('Other')))\r\n",
        "print(opt_perturbation(encoding('White')))\r\n",
        "print()\r\n",
        "\r\n",
        "# test the perturbation, epsilon = .1\r\n",
        "print(opt_perturbation(encoding('Amer-Indian-Eskimo'), epsilon = .1))\r\n",
        "print(opt_perturbation(encoding('Asian-Pac-Islander'), epsilon = .1))\r\n",
        "print(opt_perturbation(encoding('Black'), epsilon = .1))\r\n",
        "print(opt_perturbation(encoding('Other'), epsilon = .1))\r\n",
        "print(opt_perturbation(encoding('White'), epsilon = .1))"
      ],
      "execution_count": null,
      "outputs": [
        {
          "output_type": "stream",
          "text": [
            "[0, 0, 0, 0, 0]\n",
            "[0, 1, 0, 0, 0]\n",
            "[0, 0, 1, 0, 0]\n",
            "[0, 0, 0, 0, 1]\n",
            "[0, 0, 0, 0, 0]\n",
            "\n",
            "[1, 0, 0, 0, 1]\n",
            "[0, 0, 1, 0, 1]\n",
            "[1, 1, 0, 0, 1]\n",
            "[0, 1, 1, 1, 1]\n",
            "[1, 0, 1, 0, 0]\n"
          ],
          "name": "stdout"
        }
      ]
    },
    {
      "cell_type": "code",
      "metadata": {
        "colab": {
          "base_uri": "https://localhost:8080/"
        },
        "id": "hfMUT2WLtV_L",
        "outputId": "8550b259-e93d-4547-ef03-d4c52b210fd6"
      },
      "source": [
        "# data perturbation\r\n",
        "opt_perturbed_answers = np.sum([opt_perturbation(encoding(r)) for r in adult_race], axis=0)\r\n",
        "list(zip(domain, opt_perturbed_answers))"
      ],
      "execution_count": null,
      "outputs": [
        {
          "output_type": "execute_result",
          "data": {
            "text/plain": [
              "[('Amer-Indian-Eskimo', 397),\n",
              " ('Asian-Pac-Islander', 696),\n",
              " ('Black', 1796),\n",
              " ('Other', 386),\n",
              " ('White', 13976)]"
            ]
          },
          "metadata": {
            "tags": []
          },
          "execution_count": 74
        }
      ]
    },
    {
      "cell_type": "code",
      "metadata": {
        "colab": {
          "base_uri": "https://localhost:8080/"
        },
        "id": "fnCOheXvte3a",
        "outputId": "6997c440-3f1d-4e17-cf2f-cadf840eab76"
      },
      "source": [
        "# the actual number of people of each race\r\n",
        "list(zip(domain, answers))"
      ],
      "execution_count": null,
      "outputs": [
        {
          "output_type": "execute_result",
          "data": {
            "text/plain": [
              "[('Amer-Indian-Eskimo', 311),\n",
              " ('Asian-Pac-Islander', 1039),\n",
              " ('Black', 3124),\n",
              " ('Other', 271),\n",
              " ('White', 27816)]"
            ]
          },
          "metadata": {
            "tags": []
          },
          "execution_count": 75
        }
      ]
    },
    {
      "cell_type": "code",
      "metadata": {
        "id": "7YlbCKZ5to-Z"
      },
      "source": [
        "# optimized unary encoding - aggregation and estimation\r\n",
        "def opt_aggregation_and_estimation(answers, epsilon = 5.0):\r\n",
        "    p = 1 / 2\r\n",
        "    q = 1 / (1 + pow(math.e, epsilon))\r\n",
        "    \r\n",
        "    sums = np.sum(answers, axis=0)\r\n",
        "    n = len(answers)\r\n",
        "    \r\n",
        "    return [int((i - n * q) / (p-q)) for i in sums]  "
      ],
      "execution_count": null,
      "outputs": []
    },
    {
      "cell_type": "code",
      "metadata": {
        "colab": {
          "base_uri": "https://localhost:8080/"
        },
        "id": "81gIbvQkuHLa",
        "outputId": "96a19f51-1e31-4fc6-d1f7-e21077ee04a5"
      },
      "source": [
        "# data aggregation and estimation\r\n",
        "opt_perturbed_answers = [opt_perturbation(encoding(r)) for r in adult_race]\r\n",
        "estimated_answers = opt_aggregation_and_estimation(opt_perturbed_answers)\r\n",
        "list(zip(domain, estimated_answers))"
      ],
      "execution_count": null,
      "outputs": [
        {
          "output_type": "execute_result",
          "data": {
            "text/plain": [
              "[('Amer-Indian-Eskimo', 298),\n",
              " ('Asian-Pac-Islander', 1070),\n",
              " ('Black', 3107),\n",
              " ('Other', 283),\n",
              " ('White', 28215)]"
            ]
          },
          "metadata": {
            "tags": []
          },
          "execution_count": 77
        }
      ]
    },
    {
      "cell_type": "code",
      "metadata": {
        "colab": {
          "base_uri": "https://localhost:8080/"
        },
        "id": "KtyzkXOLuOOz",
        "outputId": "aa8042fd-2f2e-43e9-c86b-9bfc9b5f780d"
      },
      "source": [
        "# the actual number of people of each race\r\n",
        "list(zip(domain, answers))"
      ],
      "execution_count": null,
      "outputs": [
        {
          "output_type": "execute_result",
          "data": {
            "text/plain": [
              "[('Amer-Indian-Eskimo', 311),\n",
              " ('Asian-Pac-Islander', 1039),\n",
              " ('Black', 3124),\n",
              " ('Other', 271),\n",
              " ('White', 27816)]"
            ]
          },
          "metadata": {
            "tags": []
          },
          "execution_count": 78
        }
      ]
    }
  ]
}