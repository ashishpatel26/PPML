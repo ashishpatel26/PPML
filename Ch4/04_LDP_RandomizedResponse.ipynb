{
  "nbformat": 4,
  "nbformat_minor": 0,
  "metadata": {
    "colab": {
      "name": "04_LDP-RandomizedResponse.ipynb",
      "provenance": []
    },
    "kernelspec": {
      "name": "python3",
      "display_name": "Python 3"
    }
  },
  "cells": [
    {
      "cell_type": "code",
      "metadata": {
        "colab": {
          "base_uri": "https://localhost:8080/"
        },
        "id": "JFlTcabyIm0o",
        "outputId": "be74fd22-03d9-4e8a-e83b-0dac4d31e1e2"
      },
      "source": [
        "import numpy as np\r\n",
        "import matplotlib.pyplot as plt\r\n",
        "\r\n",
        "# load data\r\n",
        "ages_adult = np.loadtxt(\"https://archive.ics.uci.edu/ml/machine-learning-databases/adult/adult.data\", usecols=0, delimiter=\", \")\r\n",
        "total_count = len([i for i in ages_adult]) \r\n",
        "age_over_50_count= len([i for i in ages_adult if i > 50]) \r\n",
        "print(total_count)\r\n",
        "print(age_over_50_count)\r\n",
        "print(total_count-age_over_50_count)"
      ],
      "execution_count": null,
      "outputs": [
        {
          "output_type": "stream",
          "text": [
            "32561\n",
            "6460\n",
            "26101\n"
          ],
          "name": "stdout"
        }
      ]
    },
    {
      "cell_type": "code",
      "metadata": {
        "id": "BzHE78dFnsdf"
      },
      "source": [
        "# data perturbation\r\n",
        "def random_response_ages_adult(response):\r\n",
        "    true_ans = response > 50\r\n",
        "\r\n",
        "    # flip the first coin\r\n",
        "    if np.random.randint(0, 2) == 0:\r\n",
        "        # return the true answer\r\n",
        "        return true_ans\r\n",
        "    else:\r\n",
        "        # flip the second coin, and return the randomized answer\r\n",
        "        return np.random.randint(0, 2) == 0"
      ],
      "execution_count": null,
      "outputs": []
    },
    {
      "cell_type": "code",
      "metadata": {
        "colab": {
          "base_uri": "https://localhost:8080/"
        },
        "id": "q_HiONOjNsYP",
        "outputId": "28cb1514-9c45-4f05-d737-fabc2002ea07"
      },
      "source": [
        "perturbed_age_over_50_count = len([i for i in ages_adult if random_response_ages_adult(i)]) \r\n",
        "print(perturbed_age_over_50_count)\r\n",
        "print(total_count-perturbed_age_over_50_count)"
      ],
      "execution_count": null,
      "outputs": [
        {
          "output_type": "stream",
          "text": [
            "11384\n",
            "21177\n"
          ],
          "name": "stdout"
        }
      ]
    },
    {
      "cell_type": "code",
      "metadata": {
        "colab": {
          "base_uri": "https://localhost:8080/"
        },
        "id": "_UixTwY5XsSI",
        "outputId": "b094d45d-2fa7-47c8-a60a-13ad5efaca90"
      },
      "source": [
        "# perturbation\r\n",
        "answers = [True if random_response_ages_adult(i) else False for i in ages_adult ]\r\n",
        "\r\n",
        "# data aggregation and estimation\r\n",
        "def random_response_aggregation_and_estimation(answers):\r\n",
        "    # one-quarter (0.25) of the answers are expected to be \"1s\" or \"yesses\" coming from the random answers, per the coin flips\r\n",
        "    # the number of \"false yesses\"\r\n",
        "    false_yesses = len(answers)/4\r\n",
        "\r\n",
        "    # the total number of yesses received\r\n",
        "    total_yesses = np.sum([1 if r else 0 for r in answers])\r\n",
        "\r\n",
        "    # the number of \"true\" yesses is the difference between the total number of yesses and the fasle yesses\r\n",
        "    true_yesses = total_yesses - false_yesses\r\n",
        "\r\n",
        "    # true_yesses estimates the total number of yesses in the group that were telling the truth\r\n",
        "    # then, the total number of yesses could be estimated by twice of the true_yesses\r\n",
        "    rr_result = true_yesses*2\r\n",
        "    return rr_result\r\n",
        "\r\n",
        "estimated_age_over_50_count = random_response_aggregation_and_estimation(answers)\r\n",
        "# estimated values\r\n",
        "print(int(estimated_age_over_50_count))\r\n",
        "print(total_count-int(estimated_age_over_50_count))\r\n",
        "print()\r\n",
        "\r\n",
        "# actual values\r\n",
        "print(age_over_50_count)\r\n",
        "print(total_count-age_over_50_count)"
      ],
      "execution_count": null,
      "outputs": [
        {
          "output_type": "stream",
          "text": [
            "6525\n",
            "26036\n",
            "\n",
            "6460\n",
            "26101\n"
          ],
          "name": "stdout"
        }
      ]
    }
  ]
}