{
  "nbformat": 4,
  "nbformat_minor": 0,
  "metadata": {
    "colab": {
      "name": "04_LDP-DirectEncoding.ipynb",
      "provenance": []
    },
    "kernelspec": {
      "name": "python3",
      "display_name": "Python 3"
    }
  },
  "cells": [
    {
      "cell_type": "code",
      "metadata": {
        "colab": {
          "base_uri": "https://localhost:8080/"
        },
        "id": "yaLiXQ0s_zKu",
        "outputId": "49103893-29ad-4da5-fa1e-53ca6d876b23"
      },
      "source": [
        "import pandas as pd\n",
        "import numpy as np\n",
        "import matplotlib.pyplot as plt\n",
        "import sys\n",
        "import io\n",
        "import requests\n",
        "import math\n",
        "\n",
        "# load data\n",
        "req = requests.get(\"https://archive.ics.uci.edu/ml/machine-learning-databases/adult/adult.data\").content\n",
        "adult = pd.read_csv(io.StringIO(req.decode('utf-8')), header=None, na_values='?', delimiter=r\", \")\n",
        "adult.dropna()\n",
        "adult.head()\n",
        "\n",
        "# the domains\n",
        "domain = adult[6].dropna().unique()\n",
        "domain.sort()\n",
        "domain"
      ],
      "execution_count": 1,
      "outputs": [
        {
          "output_type": "stream",
          "text": [
            "/usr/local/lib/python3.7/dist-packages/ipykernel_launcher.py:11: ParserWarning: Falling back to the 'python' engine because the 'c' engine does not support regex separators (separators > 1 char and different from '\\s+' are interpreted as regex); you can avoid this warning by specifying engine='python'.\n",
            "  # This is added back by InteractiveShellApp.init_path()\n"
          ],
          "name": "stderr"
        },
        {
          "output_type": "execute_result",
          "data": {
            "text/plain": [
              "array(['Adm-clerical', 'Armed-Forces', 'Craft-repair', 'Exec-managerial',\n",
              "       'Farming-fishing', 'Handlers-cleaners', 'Machine-op-inspct',\n",
              "       'Other-service', 'Priv-house-serv', 'Prof-specialty',\n",
              "       'Protective-serv', 'Sales', 'Tech-support', 'Transport-moving'],\n",
              "      dtype=object)"
            ]
          },
          "metadata": {
            "tags": []
          },
          "execution_count": 1
        }
      ]
    },
    {
      "cell_type": "code",
      "metadata": {
        "colab": {
          "base_uri": "https://localhost:8080/"
        },
        "id": "oKuHhD7DHGae",
        "outputId": "d709b9a0-2fbc-4a20-e6ed-17f36c342db6"
      },
      "source": [
        "# the number of people of each occupation\n",
        "adult_occupation = adult[6].dropna()\n",
        "adult_occupation.value_counts().sort_index()"
      ],
      "execution_count": 2,
      "outputs": [
        {
          "output_type": "execute_result",
          "data": {
            "text/plain": [
              "Adm-clerical         3770\n",
              "Armed-Forces            9\n",
              "Craft-repair         4099\n",
              "Exec-managerial      4066\n",
              "Farming-fishing       994\n",
              "Handlers-cleaners    1370\n",
              "Machine-op-inspct    2002\n",
              "Other-service        3295\n",
              "Priv-house-serv       149\n",
              "Prof-specialty       4140\n",
              "Protective-serv       649\n",
              "Sales                3650\n",
              "Tech-support          928\n",
              "Transport-moving     1597\n",
              "Name: 6, dtype: int64"
            ]
          },
          "metadata": {
            "tags": []
          },
          "execution_count": 2
        }
      ]
    },
    {
      "cell_type": "code",
      "metadata": {
        "colab": {
          "base_uri": "https://localhost:8080/"
        },
        "id": "1TpGIkSaGdvn",
        "outputId": "a34ce7c3-03c7-4271-d80b-f645774f027b"
      },
      "source": [
        "# direct encoding - encoding\n",
        "def encoding(answer):\n",
        "    return int(np.where(domain == answer)[0])\n",
        "\n",
        "# test the encoding\n",
        "print(encoding('Armed-Forces'))\n",
        "print(encoding('Craft-repair'))\n",
        "print(encoding('Sales'))\n",
        "print(encoding('Transport-moving'))"
      ],
      "execution_count": 3,
      "outputs": [
        {
          "output_type": "stream",
          "text": [
            "1\n",
            "2\n",
            "11\n",
            "13\n"
          ],
          "name": "stdout"
        }
      ]
    },
    {
      "cell_type": "code",
      "metadata": {
        "colab": {
          "base_uri": "https://localhost:8080/"
        },
        "id": "LIkQP-C6HEcH",
        "outputId": "1b8cd237-ff35-4cff-b328-67a741b81d5f"
      },
      "source": [
        "# direct encoding - perturbation\n",
        "def perturbation(encoded_ans, epsilon = 5.0):\n",
        "    # size of the domain set\n",
        "    d = len(domain)\n",
        "    p = pow(math.e, epsilon) / (d - 1 + pow(math.e, epsilon))\n",
        "    q = (1.0 - p) / (d - 1.0)\n",
        "    s1 = np.random.random()\n",
        "    if s1 <= p:\n",
        "        # return itself with probability p\n",
        "        return domain[encoded_ans]\n",
        "    else:\n",
        "        s2 = np.random.randint(0, d - 1)\n",
        "        return domain[(encoded_ans + s2) % d]\n",
        "\n",
        "d = len(domain)\n",
        "# test the perturbation, epsilon = 5.0\n",
        "print(perturbation(encoding('Armed-Forces')))\n",
        "print(perturbation(encoding('Craft-repair')))\n",
        "print(perturbation(encoding('Sales')))\n",
        "print(perturbation(encoding('Transport-moving')))\n",
        "p = pow(math.e, 5.0) / (d - 1 + pow(math.e, 5.0))\n",
        "q = (1.0 - p) / (d - 1.0)\n",
        "print(\"epsilon = 5.0 \"+\"p: \"+str(p)+\" q: \"+str(q))\n",
        "print()\n",
        "\n",
        "# test the perturbation, epsilon = .1\n",
        "print(perturbation(encoding('Armed-Forces'), epsilon = .1))\n",
        "print(perturbation(encoding('Craft-repair'), epsilon = .1))\n",
        "print(perturbation(encoding('Sales'), epsilon = .1))\n",
        "print(perturbation(encoding('Transport-moving'), epsilon = .1))\n",
        "p = pow(math.e, .1) / (d - 1 + pow(math.e, .1))\n",
        "q = (1.0 - p) / (d - 1.0)\n",
        "print(\"epsilon = 0.1 \"+\"p: \"+str(p)+\" q: \"+str(q))\n",
        "print()"
      ],
      "execution_count": 4,
      "outputs": [
        {
          "output_type": "stream",
          "text": [
            "Armed-Forces\n",
            "Craft-repair\n",
            "Sales\n",
            "Craft-repair\n",
            "epsilon = 5.0 p: 0.9194613371531957 q: 0.006195281757446487\n",
            "\n",
            "Priv-house-serv\n",
            "Other-service\n",
            "Exec-managerial\n",
            "Other-service\n",
            "epsilon = 0.1 p: 0.07835218194055213 q: 0.0708959860045729\n",
            "\n"
          ],
          "name": "stdout"
        }
      ]
    },
    {
      "cell_type": "code",
      "metadata": {
        "colab": {
          "base_uri": "https://localhost:8080/"
        },
        "id": "26GT9aLIcyDz",
        "outputId": "01f89658-b99d-4749-c38f-57a05cc3fdb3"
      },
      "source": [
        "# data perturbation\n",
        "perturbed_answers = pd.DataFrame([perturbation(encoding(i)) for i in adult_occupation])\n",
        "perturbed_answers.value_counts().sort_index()"
      ],
      "execution_count": 5,
      "outputs": [
        {
          "output_type": "execute_result",
          "data": {
            "text/plain": [
              "Adm-clerical         3625\n",
              "Armed-Forces          160\n",
              "Craft-repair         3945\n",
              "Exec-managerial      3952\n",
              "Farming-fishing      1095\n",
              "Handlers-cleaners    1412\n",
              "Machine-op-inspct    2016\n",
              "Other-service        3219\n",
              "Priv-house-serv       327\n",
              "Prof-specialty       4024\n",
              "Protective-serv       780\n",
              "Sales                3535\n",
              "Tech-support         1013\n",
              "Transport-moving     1615\n",
              "dtype: int64"
            ]
          },
          "metadata": {
            "tags": []
          },
          "execution_count": 5
        }
      ]
    },
    {
      "cell_type": "code",
      "metadata": {
        "colab": {
          "base_uri": "https://localhost:8080/"
        },
        "id": "69H1n8iedar-",
        "outputId": "1ad369a2-7d74-4247-cc22-f16e06bcffc9"
      },
      "source": [
        "# the number of people of each occupation\n",
        "adult_occupation = adult[6].dropna()\n",
        "adult_occupation.value_counts().sort_index()"
      ],
      "execution_count": 6,
      "outputs": [
        {
          "output_type": "execute_result",
          "data": {
            "text/plain": [
              "Adm-clerical         3770\n",
              "Armed-Forces            9\n",
              "Craft-repair         4099\n",
              "Exec-managerial      4066\n",
              "Farming-fishing       994\n",
              "Handlers-cleaners    1370\n",
              "Machine-op-inspct    2002\n",
              "Other-service        3295\n",
              "Priv-house-serv       149\n",
              "Prof-specialty       4140\n",
              "Protective-serv       649\n",
              "Sales                3650\n",
              "Tech-support          928\n",
              "Transport-moving     1597\n",
              "Name: 6, dtype: int64"
            ]
          },
          "metadata": {
            "tags": []
          },
          "execution_count": 6
        }
      ]
    },
    {
      "cell_type": "code",
      "metadata": {
        "id": "h_kw3EZBI7YH"
      },
      "source": [
        "# direct encoding - aggregation and estimation\n",
        "def aggregation_and_estimation(answers, epsilon = 5.0):\n",
        "    n = len(answers)\n",
        "    d = len(domain)\n",
        "    p = pow(math.e, epsilon) / (d - 1 + pow(math.e, epsilon))\n",
        "    q = (1.0 - p) / (d - 1.0)\n",
        "\n",
        "    aggregator = answers.value_counts().sort_index()\n",
        "    \n",
        "    return [max(int((i - n*q) / (p-q)), 1) for i in aggregator]  "
      ],
      "execution_count": 7,
      "outputs": []
    },
    {
      "cell_type": "code",
      "metadata": {
        "colab": {
          "base_uri": "https://localhost:8080/"
        },
        "id": "rrfJati3MCzL",
        "outputId": "d9906c1e-4d8b-4ad7-8a35-11e05c03309e"
      },
      "source": [
        "# data aggregation and estimation\n",
        "estimated_answers = aggregation_and_estimation(perturbed_answers)\n",
        "list(zip(domain, estimated_answers))"
      ],
      "execution_count": 8,
      "outputs": [
        {
          "output_type": "execute_result",
          "data": {
            "text/plain": [
              "[('Adm-clerical', 3760),\n",
              " ('Armed-Forces', 1),\n",
              " ('Craft-repair', 4111),\n",
              " ('Exec-managerial', 4118),\n",
              " ('Farming-fishing', 990),\n",
              " ('Handlers-cleaners', 1337),\n",
              " ('Machine-op-inspct', 1999),\n",
              " ('Other-service', 3316),\n",
              " ('Priv-house-serv', 149),\n",
              " ('Prof-specialty', 4197),\n",
              " ('Protective-serv', 645),\n",
              " ('Sales', 3662),\n",
              " ('Tech-support', 900),\n",
              " ('Transport-moving', 1559)]"
            ]
          },
          "metadata": {
            "tags": []
          },
          "execution_count": 8
        }
      ]
    },
    {
      "cell_type": "code",
      "metadata": {
        "colab": {
          "base_uri": "https://localhost:8080/"
        },
        "id": "TWXp2i3EMC13",
        "outputId": "4deeea94-eb5d-403c-8e3a-c348d50b8856"
      },
      "source": [
        "# the number of people of each occupation\n",
        "adult_occupation = adult[6].dropna()\n",
        "adult_occupation.value_counts().sort_index()"
      ],
      "execution_count": 9,
      "outputs": [
        {
          "output_type": "execute_result",
          "data": {
            "text/plain": [
              "Adm-clerical         3770\n",
              "Armed-Forces            9\n",
              "Craft-repair         4099\n",
              "Exec-managerial      4066\n",
              "Farming-fishing       994\n",
              "Handlers-cleaners    1370\n",
              "Machine-op-inspct    2002\n",
              "Other-service        3295\n",
              "Priv-house-serv       149\n",
              "Prof-specialty       4140\n",
              "Protective-serv       649\n",
              "Sales                3650\n",
              "Tech-support          928\n",
              "Transport-moving     1597\n",
              "Name: 6, dtype: int64"
            ]
          },
          "metadata": {
            "tags": []
          },
          "execution_count": 9
        }
      ]
    }
  ]
}